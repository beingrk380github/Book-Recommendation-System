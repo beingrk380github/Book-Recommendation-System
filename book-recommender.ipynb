{
 "cells": [
  {
   "cell_type": "markdown",
   "id": "9d5a789f",
   "metadata": {
    "papermill": {
     "duration": 0.008067,
     "end_time": "2025-05-31T07:23:51.493974",
     "exception": false,
     "start_time": "2025-05-31T07:23:51.485907",
     "status": "completed"
    },
    "tags": []
   },
   "source": []
  },
  {
   "cell_type": "markdown",
   "id": "dd38c0c1",
   "metadata": {
    "papermill": {
     "duration": 0.006602,
     "end_time": "2025-05-31T07:23:51.507921",
     "exception": false,
     "start_time": "2025-05-31T07:23:51.501319",
     "status": "completed"
    },
    "tags": []
   },
   "source": [
    "#  BOOK RECOMMENDATION SYSTEM \n",
    "## BY : *RAMBABU KUMAR*\n",
    "\n",
    "### This is a book recommnedation system project , to get recommnedations from the model you just have to type the name of books and you will get similar books recommendations "
   ]
  },
  {
   "cell_type": "markdown",
   "id": "02943475",
   "metadata": {
    "papermill": {
     "duration": 0.006409,
     "end_time": "2025-05-31T07:23:51.520919",
     "exception": false,
     "start_time": "2025-05-31T07:23:51.514510",
     "status": "completed"
    },
    "tags": []
   },
   "source": [
    "# Load & Understand the Dataset\n",
    "Before cleaning, always load and inspect."
   ]
  },
  {
   "cell_type": "code",
   "execution_count": 1,
   "id": "f16b59a6",
   "metadata": {
    "execution": {
     "iopub.execute_input": "2025-05-31T07:23:51.535813Z",
     "iopub.status.busy": "2025-05-31T07:23:51.535114Z",
     "iopub.status.idle": "2025-05-31T07:23:53.090552Z",
     "shell.execute_reply": "2025-05-31T07:23:53.090000Z"
    },
    "papermill": {
     "duration": 1.56431,
     "end_time": "2025-05-31T07:23:53.092003",
     "exception": false,
     "start_time": "2025-05-31T07:23:51.527693",
     "status": "completed"
    },
    "tags": []
   },
   "outputs": [],
   "source": [
    "import pandas as pd\n",
    "import numpy as np\n",
    "import warnings\n",
    "warnings.filterwarnings('ignore')"
   ]
  },
  {
   "cell_type": "code",
   "execution_count": 2,
   "id": "24c9598a",
   "metadata": {
    "execution": {
     "iopub.execute_input": "2025-05-31T07:23:53.108128Z",
     "iopub.status.busy": "2025-05-31T07:23:53.107780Z",
     "iopub.status.idle": "2025-05-31T07:23:56.432691Z",
     "shell.execute_reply": "2025-05-31T07:23:56.432057Z"
    },
    "papermill": {
     "duration": 3.334459,
     "end_time": "2025-05-31T07:23:56.434088",
     "exception": false,
     "start_time": "2025-05-31T07:23:53.099629",
     "status": "completed"
    },
    "tags": []
   },
   "outputs": [],
   "source": [
    "df = pd.read_csv('/kaggle/input/books-datasets/Datasets/GoodReads_100k_books.csv')"
   ]
  },
  {
   "cell_type": "code",
   "execution_count": 3,
   "id": "05d9d636",
   "metadata": {
    "execution": {
     "iopub.execute_input": "2025-05-31T07:23:56.449687Z",
     "iopub.status.busy": "2025-05-31T07:23:56.449228Z",
     "iopub.status.idle": "2025-05-31T07:23:56.473159Z",
     "shell.execute_reply": "2025-05-31T07:23:56.472427Z"
    },
    "papermill": {
     "duration": 0.032695,
     "end_time": "2025-05-31T07:23:56.474317",
     "exception": false,
     "start_time": "2025-05-31T07:23:56.441622",
     "status": "completed"
    },
    "tags": []
   },
   "outputs": [
    {
     "data": {
      "text/html": [
       "<div>\n",
       "<style scoped>\n",
       "    .dataframe tbody tr th:only-of-type {\n",
       "        vertical-align: middle;\n",
       "    }\n",
       "\n",
       "    .dataframe tbody tr th {\n",
       "        vertical-align: top;\n",
       "    }\n",
       "\n",
       "    .dataframe thead th {\n",
       "        text-align: right;\n",
       "    }\n",
       "</style>\n",
       "<table border=\"1\" class=\"dataframe\">\n",
       "  <thead>\n",
       "    <tr style=\"text-align: right;\">\n",
       "      <th></th>\n",
       "      <th>author</th>\n",
       "      <th>bookformat</th>\n",
       "      <th>desc</th>\n",
       "      <th>genre</th>\n",
       "      <th>img</th>\n",
       "      <th>isbn</th>\n",
       "      <th>isbn13</th>\n",
       "      <th>link</th>\n",
       "      <th>pages</th>\n",
       "      <th>rating</th>\n",
       "      <th>reviews</th>\n",
       "      <th>title</th>\n",
       "      <th>totalratings</th>\n",
       "    </tr>\n",
       "  </thead>\n",
       "  <tbody>\n",
       "    <tr>\n",
       "      <th>0</th>\n",
       "      <td>Laurence M. Hauptman</td>\n",
       "      <td>Hardcover</td>\n",
       "      <td>Reveals that several hundred thousand Indians ...</td>\n",
       "      <td>History,Military History,Civil War,American Hi...</td>\n",
       "      <td>https://i.gr-assets.com/images/S/compressed.ph...</td>\n",
       "      <td>002914180X</td>\n",
       "      <td>9.78E+12</td>\n",
       "      <td>https://goodreads.com/book/show/1001053.Betwee...</td>\n",
       "      <td>0</td>\n",
       "      <td>3.52</td>\n",
       "      <td>5</td>\n",
       "      <td>Between Two Fires: American Indians in the Civ...</td>\n",
       "      <td>33</td>\n",
       "    </tr>\n",
       "    <tr>\n",
       "      <th>1</th>\n",
       "      <td>Charlotte Fiell,Emmanuelle Dirix</td>\n",
       "      <td>Paperback</td>\n",
       "      <td>Fashion Sourcebook - 1920s is the first book i...</td>\n",
       "      <td>Couture,Fashion,Historical,Art,Nonfiction</td>\n",
       "      <td>https://i.gr-assets.com/images/S/compressed.ph...</td>\n",
       "      <td>1906863482</td>\n",
       "      <td>9.78E+12</td>\n",
       "      <td>https://goodreads.com/book/show/10010552-fashi...</td>\n",
       "      <td>576</td>\n",
       "      <td>4.51</td>\n",
       "      <td>6</td>\n",
       "      <td>Fashion Sourcebook 1920s</td>\n",
       "      <td>41</td>\n",
       "    </tr>\n",
       "    <tr>\n",
       "      <th>2</th>\n",
       "      <td>Andy Anderson</td>\n",
       "      <td>Paperback</td>\n",
       "      <td>The seminal history and analysis of the Hungar...</td>\n",
       "      <td>Politics,History</td>\n",
       "      <td>https://i.gr-assets.com/images/S/compressed.ph...</td>\n",
       "      <td>948984147</td>\n",
       "      <td>9.78E+12</td>\n",
       "      <td>https://goodreads.com/book/show/1001077.Hungar...</td>\n",
       "      <td>124</td>\n",
       "      <td>4.15</td>\n",
       "      <td>2</td>\n",
       "      <td>Hungary 56</td>\n",
       "      <td>26</td>\n",
       "    </tr>\n",
       "    <tr>\n",
       "      <th>3</th>\n",
       "      <td>Carlotta R. Anderson</td>\n",
       "      <td>Hardcover</td>\n",
       "      <td>\"All-American Anarchist\" chronicles the life a...</td>\n",
       "      <td>Labor,History</td>\n",
       "      <td>https://i.gr-assets.com/images/S/compressed.ph...</td>\n",
       "      <td>814327079</td>\n",
       "      <td>9.78E+12</td>\n",
       "      <td>https://goodreads.com/book/show/1001079.All_Am...</td>\n",
       "      <td>324</td>\n",
       "      <td>3.83</td>\n",
       "      <td>1</td>\n",
       "      <td>All-American Anarchist: Joseph A. Labadie and ...</td>\n",
       "      <td>6</td>\n",
       "    </tr>\n",
       "    <tr>\n",
       "      <th>4</th>\n",
       "      <td>Jean Leveille</td>\n",
       "      <td>NaN</td>\n",
       "      <td>Aujourdâ€™hui, lâ€™oiseau nous invite Ã  sa ta...</td>\n",
       "      <td>NaN</td>\n",
       "      <td>https://i.gr-assets.com/images/S/compressed.ph...</td>\n",
       "      <td>2761920813</td>\n",
       "      <td>NaN</td>\n",
       "      <td>https://goodreads.com/book/show/10010880-les-o...</td>\n",
       "      <td>177</td>\n",
       "      <td>4.00</td>\n",
       "      <td>1</td>\n",
       "      <td>Les oiseaux gourmands</td>\n",
       "      <td>1</td>\n",
       "    </tr>\n",
       "  </tbody>\n",
       "</table>\n",
       "</div>"
      ],
      "text/plain": [
       "                             author bookformat  \\\n",
       "0              Laurence M. Hauptman  Hardcover   \n",
       "1  Charlotte Fiell,Emmanuelle Dirix  Paperback   \n",
       "2                     Andy Anderson  Paperback   \n",
       "3              Carlotta R. Anderson  Hardcover   \n",
       "4                     Jean Leveille        NaN   \n",
       "\n",
       "                                                desc  \\\n",
       "0  Reveals that several hundred thousand Indians ...   \n",
       "1  Fashion Sourcebook - 1920s is the first book i...   \n",
       "2  The seminal history and analysis of the Hungar...   \n",
       "3  \"All-American Anarchist\" chronicles the life a...   \n",
       "4  Aujourdâ€™hui, lâ€™oiseau nous invite Ã  sa ta...   \n",
       "\n",
       "                                               genre  \\\n",
       "0  History,Military History,Civil War,American Hi...   \n",
       "1          Couture,Fashion,Historical,Art,Nonfiction   \n",
       "2                                   Politics,History   \n",
       "3                                      Labor,History   \n",
       "4                                                NaN   \n",
       "\n",
       "                                                 img        isbn    isbn13  \\\n",
       "0  https://i.gr-assets.com/images/S/compressed.ph...  002914180X  9.78E+12   \n",
       "1  https://i.gr-assets.com/images/S/compressed.ph...  1906863482  9.78E+12   \n",
       "2  https://i.gr-assets.com/images/S/compressed.ph...   948984147  9.78E+12   \n",
       "3  https://i.gr-assets.com/images/S/compressed.ph...   814327079  9.78E+12   \n",
       "4  https://i.gr-assets.com/images/S/compressed.ph...  2761920813       NaN   \n",
       "\n",
       "                                                link  pages  rating  reviews  \\\n",
       "0  https://goodreads.com/book/show/1001053.Betwee...      0    3.52        5   \n",
       "1  https://goodreads.com/book/show/10010552-fashi...    576    4.51        6   \n",
       "2  https://goodreads.com/book/show/1001077.Hungar...    124    4.15        2   \n",
       "3  https://goodreads.com/book/show/1001079.All_Am...    324    3.83        1   \n",
       "4  https://goodreads.com/book/show/10010880-les-o...    177    4.00        1   \n",
       "\n",
       "                                               title  totalratings  \n",
       "0  Between Two Fires: American Indians in the Civ...            33  \n",
       "1                           Fashion Sourcebook 1920s            41  \n",
       "2                                         Hungary 56            26  \n",
       "3  All-American Anarchist: Joseph A. Labadie and ...             6  \n",
       "4                              Les oiseaux gourmands             1  "
      ]
     },
     "execution_count": 3,
     "metadata": {},
     "output_type": "execute_result"
    }
   ],
   "source": [
    "df.head()"
   ]
  },
  {
   "cell_type": "code",
   "execution_count": 4,
   "id": "842a5dbb",
   "metadata": {
    "execution": {
     "iopub.execute_input": "2025-05-31T07:23:56.490550Z",
     "iopub.status.busy": "2025-05-31T07:23:56.490160Z",
     "iopub.status.idle": "2025-05-31T07:23:56.619945Z",
     "shell.execute_reply": "2025-05-31T07:23:56.618948Z"
    },
    "papermill": {
     "duration": 0.139132,
     "end_time": "2025-05-31T07:23:56.621213",
     "exception": false,
     "start_time": "2025-05-31T07:23:56.482081",
     "status": "completed"
    },
    "tags": []
   },
   "outputs": [
    {
     "name": "stdout",
     "output_type": "stream",
     "text": [
      "<class 'pandas.core.frame.DataFrame'>\n",
      "RangeIndex: 100000 entries, 0 to 99999\n",
      "Data columns (total 13 columns):\n",
      " #   Column        Non-Null Count   Dtype  \n",
      "---  ------        --------------   -----  \n",
      " 0   author        100000 non-null  object \n",
      " 1   bookformat    96772 non-null   object \n",
      " 2   desc          93228 non-null   object \n",
      " 3   genre         89533 non-null   object \n",
      " 4   img           96955 non-null   object \n",
      " 5   isbn          85518 non-null   object \n",
      " 6   isbn13        88565 non-null   object \n",
      " 7   link          100000 non-null  object \n",
      " 8   pages         100000 non-null  int64  \n",
      " 9   rating        100000 non-null  float64\n",
      " 10  reviews       100000 non-null  int64  \n",
      " 11  title         99999 non-null   object \n",
      " 12  totalratings  100000 non-null  int64  \n",
      "dtypes: float64(1), int64(3), object(9)\n",
      "memory usage: 9.9+ MB\n",
      "None\n",
      "author              0\n",
      "bookformat       3228\n",
      "desc             6772\n",
      "genre           10467\n",
      "img              3045\n",
      "isbn            14482\n",
      "isbn13          11435\n",
      "link                0\n",
      "pages               0\n",
      "rating              0\n",
      "reviews             0\n",
      "title               1\n",
      "totalratings        0\n",
      "dtype: int64\n"
     ]
    }
   ],
   "source": [
    "# Basic info\n",
    "print(df.info())\n",
    "print(df.isnull().sum())"
   ]
  },
  {
   "cell_type": "markdown",
   "id": "3cf850b4",
   "metadata": {
    "papermill": {
     "duration": 0.006973,
     "end_time": "2025-05-31T07:23:56.635811",
     "exception": false,
     "start_time": "2025-05-31T07:23:56.628838",
     "status": "completed"
    },
    "tags": []
   },
   "source": [
    "> Check if there are any duplicate rows and remove them."
   ]
  },
  {
   "cell_type": "code",
   "execution_count": 5,
   "id": "db62cd03",
   "metadata": {
    "execution": {
     "iopub.execute_input": "2025-05-31T07:23:56.650472Z",
     "iopub.status.busy": "2025-05-31T07:23:56.650249Z",
     "iopub.status.idle": "2025-05-31T07:23:56.880902Z",
     "shell.execute_reply": "2025-05-31T07:23:56.880273Z"
    },
    "papermill": {
     "duration": 0.239516,
     "end_time": "2025-05-31T07:23:56.882250",
     "exception": false,
     "start_time": "2025-05-31T07:23:56.642734",
     "status": "completed"
    },
    "tags": []
   },
   "outputs": [],
   "source": [
    "df.drop_duplicates(inplace=True)"
   ]
  },
  {
   "cell_type": "markdown",
   "id": "a4c6a9e2",
   "metadata": {
    "papermill": {
     "duration": 0.007115,
     "end_time": "2025-05-31T07:23:56.897073",
     "exception": false,
     "start_time": "2025-05-31T07:23:56.889958",
     "status": "completed"
    },
    "tags": []
   },
   "source": [
    "### Handle Columns with Missing Values\n",
    "> We’ll go column by column based on importance and usability in a recommender system."
   ]
  },
  {
   "cell_type": "markdown",
   "id": "81e99721",
   "metadata": {
    "papermill": {
     "duration": 0.006737,
     "end_time": "2025-05-31T07:23:56.911258",
     "exception": false,
     "start_time": "2025-05-31T07:23:56.904521",
     "status": "completed"
    },
    "tags": []
   },
   "source": [
    "> Only 1 missing in `title`, and 0 in `author` → drop that one row."
   ]
  },
  {
   "cell_type": "code",
   "execution_count": 6,
   "id": "69a6d0c1",
   "metadata": {
    "execution": {
     "iopub.execute_input": "2025-05-31T07:23:56.926425Z",
     "iopub.status.busy": "2025-05-31T07:23:56.926199Z",
     "iopub.status.idle": "2025-05-31T07:23:56.960371Z",
     "shell.execute_reply": "2025-05-31T07:23:56.959675Z"
    },
    "papermill": {
     "duration": 0.043364,
     "end_time": "2025-05-31T07:23:56.961614",
     "exception": false,
     "start_time": "2025-05-31T07:23:56.918250",
     "status": "completed"
    },
    "tags": []
   },
   "outputs": [],
   "source": [
    "df = df[df['title'].notnull()]"
   ]
  },
  {
   "cell_type": "markdown",
   "id": "2e0b59e0",
   "metadata": {
    "papermill": {
     "duration": 0.006905,
     "end_time": "2025-05-31T07:23:56.975722",
     "exception": false,
     "start_time": "2025-05-31T07:23:56.968817",
     "status": "completed"
    },
    "tags": []
   },
   "source": [
    "> Strategy: Fill with placeholder (if missing, we can say \"No description available\")."
   ]
  },
  {
   "cell_type": "code",
   "execution_count": 7,
   "id": "c406d101",
   "metadata": {
    "execution": {
     "iopub.execute_input": "2025-05-31T07:23:56.990687Z",
     "iopub.status.busy": "2025-05-31T07:23:56.990184Z",
     "iopub.status.idle": "2025-05-31T07:23:57.009193Z",
     "shell.execute_reply": "2025-05-31T07:23:57.008404Z"
    },
    "papermill": {
     "duration": 0.0277,
     "end_time": "2025-05-31T07:23:57.010423",
     "exception": false,
     "start_time": "2025-05-31T07:23:56.982723",
     "status": "completed"
    },
    "tags": []
   },
   "outputs": [],
   "source": [
    "df['desc'].fillna(\"No description available\", inplace=True)"
   ]
  },
  {
   "cell_type": "markdown",
   "id": "82f81a0f",
   "metadata": {
    "papermill": {
     "duration": 0.006942,
     "end_time": "2025-05-31T07:23:57.026169",
     "exception": false,
     "start_time": "2025-05-31T07:23:57.019227",
     "status": "completed"
    },
    "tags": []
   },
   "source": [
    " > Strategy: Fill with `\"Unknown\"` or `\"Misc\"` (you can choose)."
   ]
  },
  {
   "cell_type": "code",
   "execution_count": 8,
   "id": "1f3266cc",
   "metadata": {
    "execution": {
     "iopub.execute_input": "2025-05-31T07:23:57.041101Z",
     "iopub.status.busy": "2025-05-31T07:23:57.040560Z",
     "iopub.status.idle": "2025-05-31T07:23:57.052287Z",
     "shell.execute_reply": "2025-05-31T07:23:57.051817Z"
    },
    "papermill": {
     "duration": 0.020136,
     "end_time": "2025-05-31T07:23:57.053214",
     "exception": false,
     "start_time": "2025-05-31T07:23:57.033078",
     "status": "completed"
    },
    "tags": []
   },
   "outputs": [],
   "source": [
    "df['genre'].fillna(\"Unknown\", inplace=True)"
   ]
  },
  {
   "cell_type": "markdown",
   "id": "bce33481",
   "metadata": {
    "papermill": {
     "duration": 0.006845,
     "end_time": "2025-05-31T07:23:57.067389",
     "exception": false,
     "start_time": "2025-05-31T07:23:57.060544",
     "status": "completed"
    },
    "tags": []
   },
   "source": [
    " > Strategy: Fill with `\"Not specified\".`"
   ]
  },
  {
   "cell_type": "code",
   "execution_count": 9,
   "id": "9690e959",
   "metadata": {
    "execution": {
     "iopub.execute_input": "2025-05-31T07:23:57.124550Z",
     "iopub.status.busy": "2025-05-31T07:23:57.123754Z",
     "iopub.status.idle": "2025-05-31T07:23:57.132883Z",
     "shell.execute_reply": "2025-05-31T07:23:57.132386Z"
    },
    "papermill": {
     "duration": 0.017978,
     "end_time": "2025-05-31T07:23:57.133874",
     "exception": false,
     "start_time": "2025-05-31T07:23:57.115896",
     "status": "completed"
    },
    "tags": []
   },
   "outputs": [],
   "source": [
    "df['bookformat'].fillna(\"Not specified\", inplace=True)"
   ]
  },
  {
   "cell_type": "markdown",
   "id": "8bc55843",
   "metadata": {
    "papermill": {
     "duration": 0.006858,
     "end_time": "2025-05-31T07:23:57.147988",
     "exception": false,
     "start_time": "2025-05-31T07:23:57.141130",
     "status": "completed"
    },
    "tags": []
   },
   "source": [
    "> Strategy: Drop if not using images, or fill with a placeholder link if needed."
   ]
  },
  {
   "cell_type": "code",
   "execution_count": 10,
   "id": "2324185e",
   "metadata": {
    "execution": {
     "iopub.execute_input": "2025-05-31T07:23:57.162781Z",
     "iopub.status.busy": "2025-05-31T07:23:57.162560Z",
     "iopub.status.idle": "2025-05-31T07:23:57.173879Z",
     "shell.execute_reply": "2025-05-31T07:23:57.173222Z"
    },
    "papermill": {
     "duration": 0.01999,
     "end_time": "2025-05-31T07:23:57.175012",
     "exception": false,
     "start_time": "2025-05-31T07:23:57.155022",
     "status": "completed"
    },
    "tags": []
   },
   "outputs": [],
   "source": [
    "df['img'].fillna(\"https://via.placeholder.com/150\", inplace=True)\n"
   ]
  },
  {
   "cell_type": "markdown",
   "id": "ecfa20f0",
   "metadata": {
    "papermill": {
     "duration": 0.006843,
     "end_time": "2025-05-31T07:23:57.189275",
     "exception": false,
     "start_time": "2025-05-31T07:23:57.182432",
     "status": "completed"
    },
    "tags": []
   },
   "source": [
    " - `isbn`, `isbn13` — Unique identifiers, not needed for content-based\n",
    "- A lot of missing data, but usually not necessary for modeling\n",
    "- Strategy: Keep as is or drop entirely"
   ]
  },
  {
   "cell_type": "code",
   "execution_count": 11,
   "id": "55fde6ed",
   "metadata": {
    "execution": {
     "iopub.execute_input": "2025-05-31T07:23:57.204090Z",
     "iopub.status.busy": "2025-05-31T07:23:57.203903Z",
     "iopub.status.idle": "2025-05-31T07:23:57.227026Z",
     "shell.execute_reply": "2025-05-31T07:23:57.226334Z"
    },
    "papermill": {
     "duration": 0.031949,
     "end_time": "2025-05-31T07:23:57.228251",
     "exception": false,
     "start_time": "2025-05-31T07:23:57.196302",
     "status": "completed"
    },
    "tags": []
   },
   "outputs": [],
   "source": [
    "# Optional\n",
    "df.drop(['isbn', 'isbn13'], axis=1, inplace=True)\n"
   ]
  },
  {
   "cell_type": "markdown",
   "id": "fe202699",
   "metadata": {
    "papermill": {
     "duration": 0.007613,
     "end_time": "2025-05-31T07:23:57.243727",
     "exception": false,
     "start_time": "2025-05-31T07:23:57.236114",
     "status": "completed"
    },
    "tags": []
   },
   "source": [
    "> Ensure we’ve handled all missing values."
   ]
  },
  {
   "cell_type": "code",
   "execution_count": 12,
   "id": "08cb1d7d",
   "metadata": {
    "execution": {
     "iopub.execute_input": "2025-05-31T07:23:57.258816Z",
     "iopub.status.busy": "2025-05-31T07:23:57.258571Z",
     "iopub.status.idle": "2025-05-31T07:23:57.305285Z",
     "shell.execute_reply": "2025-05-31T07:23:57.304522Z"
    },
    "papermill": {
     "duration": 0.05542,
     "end_time": "2025-05-31T07:23:57.306354",
     "exception": false,
     "start_time": "2025-05-31T07:23:57.250934",
     "status": "completed"
    },
    "tags": []
   },
   "outputs": [
    {
     "name": "stdout",
     "output_type": "stream",
     "text": [
      "author          0\n",
      "bookformat      0\n",
      "desc            0\n",
      "genre           0\n",
      "img             0\n",
      "link            0\n",
      "pages           0\n",
      "rating          0\n",
      "reviews         0\n",
      "title           0\n",
      "totalratings    0\n",
      "dtype: int64\n"
     ]
    }
   ],
   "source": [
    "print(df.isnull().sum())\n"
   ]
  },
  {
   "cell_type": "markdown",
   "id": "94f2dde2",
   "metadata": {
    "papermill": {
     "duration": 0.00706,
     "end_time": "2025-05-31T07:23:57.320688",
     "exception": false,
     "start_time": "2025-05-31T07:23:57.313628",
     "status": "completed"
    },
    "tags": []
   },
   "source": [
    "# EDA with Data Visualization\n",
    "> We’ll go step by step through the most important insights with visualizations using `matplotlib`, `seaborn`, and `wordcloud`."
   ]
  },
  {
   "cell_type": "markdown",
   "id": "b9200e10",
   "metadata": {
    "papermill": {
     "duration": 0.007178,
     "end_time": "2025-05-31T07:23:57.336038",
     "exception": false,
     "start_time": "2025-05-31T07:23:57.328860",
     "status": "completed"
    },
    "tags": []
   },
   "source": [
    "> Get a quick overview of numerical columns:"
   ]
  },
  {
   "cell_type": "code",
   "execution_count": 13,
   "id": "6745b389",
   "metadata": {
    "execution": {
     "iopub.execute_input": "2025-05-31T07:23:57.351444Z",
     "iopub.status.busy": "2025-05-31T07:23:57.350974Z",
     "iopub.status.idle": "2025-05-31T07:23:58.878268Z",
     "shell.execute_reply": "2025-05-31T07:23:58.877626Z"
    },
    "papermill": {
     "duration": 1.536412,
     "end_time": "2025-05-31T07:23:58.879533",
     "exception": false,
     "start_time": "2025-05-31T07:23:57.343121",
     "status": "completed"
    },
    "tags": []
   },
   "outputs": [
    {
     "name": "stdout",
     "output_type": "stream",
     "text": [
      "              pages        rating        reviews  totalratings\n",
      "count  99999.000000  99999.000000   99999.000000  9.999900e+04\n",
      "mean     255.012790      3.833060     181.530235  2.990794e+03\n",
      "std      367.914538      0.621239    1449.458366  3.635356e+04\n",
      "min        0.000000      0.000000       0.000000  0.000000e+00\n",
      "25%      135.000000      3.660000       3.000000  3.100000e+01\n",
      "50%      240.000000      3.910000      15.000000  1.460000e+02\n",
      "75%      336.000000      4.140000      67.000000  7.440000e+02\n",
      "max    70000.000000      5.000000  158776.000000  3.819326e+06\n"
     ]
    }
   ],
   "source": [
    "import matplotlib.pyplot as plt\n",
    "import seaborn as sns\n",
    "\n",
    "# Summary of numerical columns\n",
    "print(df.describe())"
   ]
  },
  {
   "cell_type": "markdown",
   "id": "31a6fb35",
   "metadata": {
    "papermill": {
     "duration": 0.00722,
     "end_time": "2025-05-31T07:23:58.895222",
     "exception": false,
     "start_time": "2025-05-31T07:23:58.888002",
     "status": "completed"
    },
    "tags": []
   },
   "source": [
    ">### *Distribution of Book Ratings*"
   ]
  },
  {
   "cell_type": "code",
   "execution_count": 14,
   "id": "67b5a48a",
   "metadata": {
    "execution": {
     "iopub.execute_input": "2025-05-31T07:23:58.910989Z",
     "iopub.status.busy": "2025-05-31T07:23:58.910658Z",
     "iopub.status.idle": "2025-05-31T07:23:59.721299Z",
     "shell.execute_reply": "2025-05-31T07:23:59.720613Z"
    },
    "papermill": {
     "duration": 0.820014,
     "end_time": "2025-05-31T07:23:59.722555",
     "exception": false,
     "start_time": "2025-05-31T07:23:58.902541",
     "status": "completed"
    },
    "tags": []
   },
   "outputs": [
    {
     "data": {
      "image/png": "[encoded data removed]",
      "text/plain": [
       "<Figure size 1000x500 with 1 Axes>"
      ]
     },
     "metadata": {},
     "output_type": "display_data"
    }
   ],
   "source": [
    "plt.figure(figsize=(10,5))\n",
    "sns.histplot(df['rating'], bins=30, kde=True, color='skyblue')\n",
    "plt.title('Distribution of Book Ratings')\n",
    "plt.xlabel('Rating')\n",
    "plt.ylabel('Count')\n",
    "plt.grid(True)\n",
    "plt.show()"
   ]
  },
  {
   "cell_type": "markdown",
   "id": "11a07f5f",
   "metadata": {
    "papermill": {
     "duration": 0.007772,
     "end_time": "2025-05-31T07:23:59.739099",
     "exception": false,
     "start_time": "2025-05-31T07:23:59.731327",
     "status": "completed"
    },
    "tags": []
   },
   "source": [
    "Note: Most ratings will likely cluster between 3.0 and 5.0, with a right skew."
   ]
  },
  {
   "cell_type": "markdown",
   "id": "a7398b52",
   "metadata": {
    "papermill": {
     "duration": 0.007583,
     "end_time": "2025-05-31T07:23:59.754496",
     "exception": false,
     "start_time": "2025-05-31T07:23:59.746913",
     "status": "completed"
    },
    "tags": []
   },
   "source": [
    ">### *Most Common Book Genres*"
   ]
  },
  {
   "cell_type": "code",
   "execution_count": 15,
   "id": "444905dc",
   "metadata": {
    "execution": {
     "iopub.execute_input": "2025-05-31T07:23:59.771317Z",
     "iopub.status.busy": "2025-05-31T07:23:59.771101Z",
     "iopub.status.idle": "2025-05-31T07:23:59.975892Z",
     "shell.execute_reply": "2025-05-31T07:23:59.975136Z"
    },
    "papermill": {
     "duration": 0.214899,
     "end_time": "2025-05-31T07:23:59.977345",
     "exception": false,
     "start_time": "2025-05-31T07:23:59.762446",
     "status": "completed"
    },
    "tags": []
   },
   "outputs": [
    {
     "data": {
      "image/png": "[encoded data removed]",
      "text/plain": [
       "<Figure size 1000x600 with 1 Axes>"
      ]
     },
     "metadata": {},
     "output_type": "display_data"
    }
   ],
   "source": [
    "# Count most frequent genres\n",
    "top_genres = df['genre'].value_counts().head(10)\n",
    "\n",
    "plt.figure(figsize=(10,6))\n",
    "sns.barplot(x=top_genres.values, y=top_genres.index, palette='viridis')\n",
    "plt.title('Top 10 Most Common Genres')\n",
    "plt.xlabel('Number of Books')\n",
    "plt.ylabel('Genre')\n",
    "plt.show()"
   ]
  },
  {
   "cell_type": "markdown",
   "id": "a95bc37b",
   "metadata": {
    "papermill": {
     "duration": 0.009702,
     "end_time": "2025-05-31T07:23:59.998071",
     "exception": false,
     "start_time": "2025-05-31T07:23:59.988369",
     "status": "completed"
    },
    "tags": []
   },
   "source": [
    "Note : Helps us see which genres dominate—important for genre-based recommendations."
   ]
  },
  {
   "cell_type": "markdown",
   "id": "213b061f",
   "metadata": {
    "papermill": {
     "duration": 0.009842,
     "end_time": "2025-05-31T07:24:00.017790",
     "exception": false,
     "start_time": "2025-05-31T07:24:00.007948",
     "status": "completed"
    },
    "tags": []
   },
   "source": [
    ">### *Most Prolific Authors*"
   ]
  },
  {
   "cell_type": "code",
   "execution_count": 16,
   "id": "236a7219",
   "metadata": {
    "execution": {
     "iopub.execute_input": "2025-05-31T07:24:00.037543Z",
     "iopub.status.busy": "2025-05-31T07:24:00.037317Z",
     "iopub.status.idle": "2025-05-31T07:24:00.246923Z",
     "shell.execute_reply": "2025-05-31T07:24:00.246301Z"
    },
    "papermill": {
     "duration": 0.220467,
     "end_time": "2025-05-31T07:24:00.248110",
     "exception": false,
     "start_time": "2025-05-31T07:24:00.027643",
     "status": "completed"
    },
    "tags": []
   },
   "outputs": [
    {
     "data": {
      "image/png": "[encoded data removed]",
      "text/plain": [
       "<Figure size 1000x600 with 1 Axes>"
      ]
     },
     "metadata": {},
     "output_type": "display_data"
    }
   ],
   "source": [
    "top_authors = df['author'].value_counts().head(10)\n",
    "\n",
    "plt.figure(figsize=(10,6))\n",
    "sns.barplot(x=top_authors.values, y=top_authors.index, palette='coolwarm')\n",
    "plt.title('Top 10 Most Prolific Authors')\n",
    "plt.xlabel('Number of Books')\n",
    "plt.ylabel('Author')\n",
    "plt.show()"
   ]
  },
  {
   "cell_type": "markdown",
   "id": "93654b49",
   "metadata": {
    "papermill": {
     "duration": 0.010315,
     "end_time": "2025-05-31T07:24:00.268984",
     "exception": false,
     "start_time": "2025-05-31T07:24:00.258669",
     "status": "completed"
    },
    "tags": []
   },
   "source": [
    ">### *Pages vs Ratings Scatterplot*"
   ]
  },
  {
   "cell_type": "code",
   "execution_count": 17,
   "id": "17065acb",
   "metadata": {
    "execution": {
     "iopub.execute_input": "2025-05-31T07:24:00.289050Z",
     "iopub.status.busy": "2025-05-31T07:24:00.288841Z",
     "iopub.status.idle": "2025-05-31T07:24:00.667666Z",
     "shell.execute_reply": "2025-05-31T07:24:00.666918Z"
    },
    "papermill": {
     "duration": 0.390408,
     "end_time": "2025-05-31T07:24:00.669003",
     "exception": false,
     "start_time": "2025-05-31T07:24:00.278595",
     "status": "completed"
    },
    "tags": []
   },
   "outputs": [
    {
     "data": {
      "image/png": "[encoded data removed]",
      "text/plain": [
       "<Figure size 1000x600 with 1 Axes>"
      ]
     },
     "metadata": {},
     "output_type": "display_data"
    }
   ],
   "source": [
    "plt.figure(figsize=(10,6))\n",
    "sns.scatterplot(data=df, x='pages', y='rating', alpha=0.4)\n",
    "plt.title('Pages vs Rating')\n",
    "plt.xlabel('Number of Pages')\n",
    "plt.ylabel('Rating')\n",
    "plt.show()"
   ]
  },
  {
   "cell_type": "markdown",
   "id": "c76b6d5d",
   "metadata": {
    "papermill": {
     "duration": 0.01075,
     "end_time": "2025-05-31T07:24:00.691176",
     "exception": false,
     "start_time": "2025-05-31T07:24:00.680426",
     "status": "completed"
    },
    "tags": []
   },
   "source": [
    "> ### *Correlation Heatmap*\n",
    "This will help detect relationships among numerical features:"
   ]
  },
  {
   "cell_type": "code",
   "execution_count": 18,
   "id": "19b143b1",
   "metadata": {
    "execution": {
     "iopub.execute_input": "2025-05-31T07:24:00.713223Z",
     "iopub.status.busy": "2025-05-31T07:24:00.712670Z",
     "iopub.status.idle": "2025-05-31T07:24:00.898656Z",
     "shell.execute_reply": "2025-05-31T07:24:00.897945Z"
    },
    "papermill": {
     "duration": 0.198119,
     "end_time": "2025-05-31T07:24:00.899722",
     "exception": false,
     "start_time": "2025-05-31T07:24:00.701603",
     "status": "completed"
    },
    "tags": []
   },
   "outputs": [
    {
     "data": {
      "image/png": "[encoded data removed]",
      "text/plain": [
       "<Figure size 800x600 with 2 Axes>"
      ]
     },
     "metadata": {},
     "output_type": "display_data"
    }
   ],
   "source": [
    "plt.figure(figsize=(8,6))\n",
    "sns.heatmap(df[['rating', 'pages', 'reviews', 'totalratings']].corr(), annot=True, cmap='Blues')\n",
    "plt.title('Correlation Between Features')\n",
    "plt.show()"
   ]
  },
  {
   "cell_type": "markdown",
   "id": "d300884c",
   "metadata": {
    "papermill": {
     "duration": 0.011362,
     "end_time": "2025-05-31T07:24:00.922932",
     "exception": false,
     "start_time": "2025-05-31T07:24:00.911570",
     "status": "completed"
    },
    "tags": []
   },
   "source": [
    ">### *Top Rated Books*"
   ]
  },
  {
   "cell_type": "code",
   "execution_count": 19,
   "id": "e12b9039",
   "metadata": {
    "execution": {
     "iopub.execute_input": "2025-05-31T07:24:00.946631Z",
     "iopub.status.busy": "2025-05-31T07:24:00.946209Z",
     "iopub.status.idle": "2025-05-31T07:24:01.184116Z",
     "shell.execute_reply": "2025-05-31T07:24:01.183431Z"
    },
    "papermill": {
     "duration": 0.251435,
     "end_time": "2025-05-31T07:24:01.185522",
     "exception": false,
     "start_time": "2025-05-31T07:24:00.934087",
     "status": "completed"
    },
    "tags": []
   },
   "outputs": [
    {
     "data": {
      "image/png": "[encoded data removed]",
      "text/plain": [
       "<Figure size 1000x600 with 1 Axes>"
      ]
     },
     "metadata": {},
     "output_type": "display_data"
    }
   ],
   "source": [
    "top_rated = df[df['totalratings'] > 1000].sort_values(by='rating', ascending=False).head(10)\n",
    "\n",
    "plt.figure(figsize=(10,6))\n",
    "sns.barplot(x=top_rated['rating'], y=top_rated['title'], palette='magma')\n",
    "plt.title('Top Rated Books (Min 1000 Ratings)')\n",
    "plt.xlabel('Rating')\n",
    "plt.ylabel('Title')\n",
    "plt.show()"
   ]
  },
  {
   "cell_type": "markdown",
   "id": "a7211508",
   "metadata": {
    "papermill": {
     "duration": 0.012505,
     "end_time": "2025-05-31T07:24:01.211451",
     "exception": false,
     "start_time": "2025-05-31T07:24:01.198946",
     "status": "completed"
    },
    "tags": []
   },
   "source": [
    "# Popularity-Based Recommender System (Top 100 Books)"
   ]
  },
  {
   "cell_type": "markdown",
   "id": "a14d142c",
   "metadata": {
    "papermill": {
     "duration": 0.012355,
     "end_time": "2025-05-31T07:24:01.236988",
     "exception": false,
     "start_time": "2025-05-31T07:24:01.224633",
     "status": "completed"
    },
    "tags": []
   },
   "source": [
    "> #### Filter & Sort Books by Popularity\n",
    "We define popularity by number of reviews, and to ensure high quality, we can also filter with a minimum rating (optional)."
   ]
  },
  {
   "cell_type": "code",
   "execution_count": 20,
   "id": "f7268844",
   "metadata": {
    "execution": {
     "iopub.execute_input": "2025-05-31T07:24:01.262536Z",
     "iopub.status.busy": "2025-05-31T07:24:01.262308Z",
     "iopub.status.idle": "2025-05-31T07:24:01.302499Z",
     "shell.execute_reply": "2025-05-31T07:24:01.301736Z"
    },
    "papermill": {
     "duration": 0.054741,
     "end_time": "2025-05-31T07:24:01.303964",
     "exception": false,
     "start_time": "2025-05-31T07:24:01.249223",
     "status": "completed"
    },
    "tags": []
   },
   "outputs": [],
   "source": [
    "# Filter columns\n",
    "popularity_df = df[['title','author', 'img', 'reviews', 'rating']]\n",
    "\n",
    "# Drop duplicates if any (some titles might repeat)\n",
    "popularity_df = popularity_df.drop_duplicates(subset='title')\n",
    "\n",
    "# Sort by number of reviews and then rating\n",
    "top_100_books = popularity_df.sort_values(by=['reviews', 'rating'], ascending=False).head(100)"
   ]
  },
  {
   "cell_type": "markdown",
   "id": "e1d23b0f",
   "metadata": {
    "papermill": {
     "duration": 0.012479,
     "end_time": "2025-05-31T07:24:01.329755",
     "exception": false,
     "start_time": "2025-05-31T07:24:01.317276",
     "status": "completed"
    },
    "tags": []
   },
   "source": [
    "> #### Check the Top 5 Popular Books"
   ]
  },
  {
   "cell_type": "code",
   "execution_count": 21,
   "id": "c8198810",
   "metadata": {
    "execution": {
     "iopub.execute_input": "2025-05-31T07:24:01.356937Z",
     "iopub.status.busy": "2025-05-31T07:24:01.356707Z",
     "iopub.status.idle": "2025-05-31T07:24:01.364987Z",
     "shell.execute_reply": "2025-05-31T07:24:01.364427Z"
    },
    "papermill": {
     "duration": 0.022733,
     "end_time": "2025-05-31T07:24:01.366067",
     "exception": false,
     "start_time": "2025-05-31T07:24:01.343334",
     "status": "completed"
    },
    "tags": []
   },
   "outputs": [
    {
     "data": {
      "text/html": [
       "<div>\n",
       "<style scoped>\n",
       "    .dataframe tbody tr th:only-of-type {\n",
       "        vertical-align: middle;\n",
       "    }\n",
       "\n",
       "    .dataframe tbody tr th {\n",
       "        vertical-align: top;\n",
       "    }\n",
       "\n",
       "    .dataframe thead th {\n",
       "        text-align: right;\n",
       "    }\n",
       "</style>\n",
       "<table border=\"1\" class=\"dataframe\">\n",
       "  <thead>\n",
       "    <tr style=\"text-align: right;\">\n",
       "      <th></th>\n",
       "      <th>title</th>\n",
       "      <th>author</th>\n",
       "      <th>img</th>\n",
       "      <th>reviews</th>\n",
       "      <th>rating</th>\n",
       "    </tr>\n",
       "  </thead>\n",
       "  <tbody>\n",
       "    <tr>\n",
       "      <th>27180</th>\n",
       "      <td>The Fault in Our Stars</td>\n",
       "      <td>John Green</td>\n",
       "      <td>https://i.gr-assets.com/images/S/compressed.ph...</td>\n",
       "      <td>158776</td>\n",
       "      <td>4.19</td>\n",
       "    </tr>\n",
       "    <tr>\n",
       "      <th>49695</th>\n",
       "      <td>Divergent</td>\n",
       "      <td>Veronica Roth</td>\n",
       "      <td>https://i.gr-assets.com/images/S/compressed.ph...</td>\n",
       "      <td>110042</td>\n",
       "      <td>4.18</td>\n",
       "    </tr>\n",
       "    <tr>\n",
       "      <th>12325</th>\n",
       "      <td>Fifty Shades of Grey</td>\n",
       "      <td>E.L. James</td>\n",
       "      <td>https://i.gr-assets.com/images/S/compressed.ph...</td>\n",
       "      <td>79264</td>\n",
       "      <td>3.66</td>\n",
       "    </tr>\n",
       "    <tr>\n",
       "      <th>57742</th>\n",
       "      <td>Harry Potter and the Deathly Hallows</td>\n",
       "      <td>J.K. Rowling</td>\n",
       "      <td>https://i.gr-assets.com/images/S/compressed.ph...</td>\n",
       "      <td>68974</td>\n",
       "      <td>4.62</td>\n",
       "    </tr>\n",
       "    <tr>\n",
       "      <th>76329</th>\n",
       "      <td>Eleanor &amp; Park</td>\n",
       "      <td>Rainbow Rowell</td>\n",
       "      <td>https://i.gr-assets.com/images/S/compressed.ph...</td>\n",
       "      <td>68679</td>\n",
       "      <td>4.03</td>\n",
       "    </tr>\n",
       "  </tbody>\n",
       "</table>\n",
       "</div>"
      ],
      "text/plain": [
       "                                      title          author  \\\n",
       "27180                The Fault in Our Stars      John Green   \n",
       "49695                             Divergent   Veronica Roth   \n",
       "12325                  Fifty Shades of Grey      E.L. James   \n",
       "57742  Harry Potter and the Deathly Hallows    J.K. Rowling   \n",
       "76329                        Eleanor & Park  Rainbow Rowell   \n",
       "\n",
       "                                                     img  reviews  rating  \n",
       "27180  https://i.gr-assets.com/images/S/compressed.ph...   158776    4.19  \n",
       "49695  https://i.gr-assets.com/images/S/compressed.ph...   110042    4.18  \n",
       "12325  https://i.gr-assets.com/images/S/compressed.ph...    79264    3.66  \n",
       "57742  https://i.gr-assets.com/images/S/compressed.ph...    68974    4.62  \n",
       "76329  https://i.gr-assets.com/images/S/compressed.ph...    68679    4.03  "
      ]
     },
     "execution_count": 21,
     "metadata": {},
     "output_type": "execute_result"
    }
   ],
   "source": [
    "top_100_books.head()"
   ]
  },
  {
   "cell_type": "markdown",
   "id": "6e9fed81",
   "metadata": {
    "papermill": {
     "duration": 0.012373,
     "end_time": "2025-05-31T07:24:01.391410",
     "exception": false,
     "start_time": "2025-05-31T07:24:01.379037",
     "status": "completed"
    },
    "tags": []
   },
   "source": [
    "> #### Optional – Reset Index and Rename Columns for Display"
   ]
  },
  {
   "cell_type": "code",
   "execution_count": 22,
   "id": "0440c47c",
   "metadata": {
    "execution": {
     "iopub.execute_input": "2025-05-31T07:24:01.417324Z",
     "iopub.status.busy": "2025-05-31T07:24:01.417119Z",
     "iopub.status.idle": "2025-05-31T07:24:01.420518Z",
     "shell.execute_reply": "2025-05-31T07:24:01.420008Z"
    },
    "papermill": {
     "duration": 0.017585,
     "end_time": "2025-05-31T07:24:01.421535",
     "exception": false,
     "start_time": "2025-05-31T07:24:01.403950",
     "status": "completed"
    },
    "tags": []
   },
   "outputs": [],
   "source": [
    "top_100_books.reset_index(drop=True, inplace=True)\n",
    "top_100_books.columns = ['Title','Author', 'Image_URL', 'Number_of_Reviews', 'Average_Rating']"
   ]
  },
  {
   "cell_type": "markdown",
   "id": "38ea4623",
   "metadata": {
    "papermill": {
     "duration": 0.013136,
     "end_time": "2025-05-31T07:24:01.448330",
     "exception": false,
     "start_time": "2025-05-31T07:24:01.435194",
     "status": "completed"
    },
    "tags": []
   },
   "source": [
    "> #### (Optional) Display as a Table with Images (Jupyter Notebook)\n",
    "\n",
    "If you're using Jupyter Notebook and want to see images inline:"
   ]
  },
  {
   "cell_type": "code",
   "execution_count": 23,
   "id": "5e5722d8",
   "metadata": {
    "execution": {
     "iopub.execute_input": "2025-05-31T07:24:01.475041Z",
     "iopub.status.busy": "2025-05-31T07:24:01.474837Z",
     "iopub.status.idle": "2025-05-31T07:24:01.483003Z",
     "shell.execute_reply": "2025-05-31T07:24:01.482390Z"
    },
    "papermill": {
     "duration": 0.022593,
     "end_time": "2025-05-31T07:24:01.484009",
     "exception": false,
     "start_time": "2025-05-31T07:24:01.461416",
     "status": "completed"
    },
    "tags": []
   },
   "outputs": [
    {
     "data": {
      "text/html": [
       "\n",
       "    <div style=\"display:flex; align-items:center; margin:10px 0;\">\n",
       "        <img src=\"https://i.gr-assets.com/images/S/compressed.photo.goodreads.com/books/1360206420l/11870085.jpg\" style=\"height:100px; margin-right:10px;\">\n",
       "        <div>\n",
       "            <b>The Fault in Our Stars</b><br>\n",
       "             <b>John Green</b><br>\n",
       "            ⭐ 4.19 — 📝 158776 reviews\n",
       "        </div>\n",
       "    </div>\n",
       "    \n",
       "    <div style=\"display:flex; align-items:center; margin:10px 0;\">\n",
       "        <img src=\"https://i.gr-assets.com/images/S/compressed.photo.goodreads.com/books/1618526890l/13335037._SY475_.jpg\" style=\"height:100px; margin-right:10px;\">\n",
       "        <div>\n",
       "            <b>Divergent</b><br>\n",
       "             <b>Veronica Roth</b><br>\n",
       "            ⭐ 4.18 — 📝 110042 reviews\n",
       "        </div>\n",
       "    </div>\n",
       "    \n",
       "    <div style=\"display:flex; align-items:center; margin:10px 0;\">\n",
       "        <img src=\"https://i.gr-assets.com/images/S/compressed.photo.goodreads.com/books/1385207843l/10818853.jpg\" style=\"height:100px; margin-right:10px;\">\n",
       "        <div>\n",
       "            <b>Fifty Shades of Grey</b><br>\n",
       "             <b>E.L. James</b><br>\n",
       "            ⭐ 3.66 — 📝 79264 reviews\n",
       "        </div>\n",
       "    </div>\n",
       "    \n",
       "    <div style=\"display:flex; align-items:center; margin:10px 0;\">\n",
       "        <img src=\"https://i.gr-assets.com/images/S/compressed.photo.goodreads.com/books/1474171184l/136251._SY475_.jpg\" style=\"height:100px; margin-right:10px;\">\n",
       "        <div>\n",
       "            <b>Harry Potter and the Deathly Hallows</b><br>\n",
       "             <b>J.K. Rowling</b><br>\n",
       "            ⭐ 4.62 — 📝 68974 reviews\n",
       "        </div>\n",
       "    </div>\n",
       "    \n",
       "    <div style=\"display:flex; align-items:center; margin:10px 0;\">\n",
       "        <img src=\"https://i.gr-assets.com/images/S/compressed.photo.goodreads.com/books/1341952742l/15745753.jpg\" style=\"height:100px; margin-right:10px;\">\n",
       "        <div>\n",
       "            <b>Eleanor & Park</b><br>\n",
       "             <b>Rainbow Rowell</b><br>\n",
       "            ⭐ 4.03 — 📝 68679 reviews\n",
       "        </div>\n",
       "    </div>\n",
       "    \n",
       "    <div style=\"display:flex; align-items:center; margin:10px 0;\">\n",
       "        <img src=\"https://i.gr-assets.com/images/S/compressed.photo.goodreads.com/books/1545695751l/11387515.jpg\" style=\"height:100px; margin-right:10px;\">\n",
       "        <div>\n",
       "            <b>Wonder</b><br>\n",
       "             <b>R.J. Palacio</b><br>\n",
       "            ⭐ 4.42 — 📝 68118 reviews\n",
       "        </div>\n",
       "    </div>\n",
       "    \n",
       "    <div style=\"display:flex; align-items:center; margin:10px 0;\">\n",
       "        <img src=\"https://i.gr-assets.com/images/S/compressed.photo.goodreads.com/books/1325861570l/170448.jpg\" style=\"height:100px; margin-right:10px;\">\n",
       "        <div>\n",
       "            <b>Animal Farm</b><br>\n",
       "             <b>George Orwell,Russell Baker,C.M. Woodhouse</b><br>\n",
       "            ⭐ 3.96 — 📝 61970 reviews\n",
       "        </div>\n",
       "    </div>\n",
       "    \n",
       "    <div style=\"display:flex; align-items:center; margin:10px 0;\">\n",
       "        <img src=\"https://i.gr-assets.com/images/S/compressed.photo.goodreads.com/books/1618525340l/11735983._SY475_.jpg\" style=\"height:100px; margin-right:10px;\">\n",
       "        <div>\n",
       "            <b>Insurgent</b><br>\n",
       "             <b>Veronica Roth</b><br>\n",
       "            ⭐ 4.01 — 📝 59515 reviews\n",
       "        </div>\n",
       "    </div>\n",
       "    \n",
       "    <div style=\"display:flex; align-items:center; margin:10px 0;\">\n",
       "        <img src=\"https://i.gr-assets.com/images/S/compressed.photo.goodreads.com/books/1402749479l/16143347.jpg\" style=\"height:100px; margin-right:10px;\">\n",
       "        <div>\n",
       "            <b>We Were Liars</b><br>\n",
       "             <b>E. Lockhart</b><br>\n",
       "            ⭐ 3.84 — 📝 58645 reviews\n",
       "        </div>\n",
       "    </div>\n",
       "    \n",
       "    <div style=\"display:flex; align-items:center; margin:10px 0;\">\n",
       "        <img src=\"https://i.gr-assets.com/images/S/compressed.photo.goodreads.com/books/1474169725l/15881._SY475_.jpg\" style=\"height:100px; margin-right:10px;\">\n",
       "        <div>\n",
       "            <b>Harry Potter and the Chamber of Secrets</b><br>\n",
       "             <b>J.K. Rowling,Mary GrandPrÃ©</b><br>\n",
       "            ⭐ 4.43 — 📝 57146 reviews\n",
       "        </div>\n",
       "    </div>\n",
       "    \n",
       "    <div style=\"display:flex; align-items:center; margin:10px 0;\">\n",
       "        <img src=\"https://i.gr-assets.com/images/S/compressed.photo.goodreads.com/books/1345958969l/128029.jpg\" style=\"height:100px; margin-right:10px;\">\n",
       "        <div>\n",
       "            <b>A Thousand Splendid Suns</b><br>\n",
       "             <b>Khaled Hosseini</b><br>\n",
       "            ⭐ 4.38 — 📝 57133 reviews\n",
       "        </div>\n",
       "    </div>\n",
       "    \n",
       "    <div style=\"display:flex; align-items:center; margin:10px 0;\">\n",
       "        <img src=\"https://i.gr-assets.com/images/S/compressed.photo.goodreads.com/books/1546406962l/16096824._SY475_.jpg\" style=\"height:100px; margin-right:10px;\">\n",
       "        <div>\n",
       "            <b>A Court of Thorns and Roses</b><br>\n",
       "             <b>Sarah J. Maas</b><br>\n",
       "            ⭐ 4.2 — 📝 57123 reviews\n",
       "        </div>\n",
       "    </div>\n",
       "    \n",
       "    <div style=\"display:flex; align-items:center; margin:10px 0;\">\n",
       "        <img src=\"https://i.gr-assets.com/images/S/compressed.photo.goodreads.com/books/1562726234l/13496.jpg\" style=\"height:100px; margin-right:10px;\">\n",
       "        <div>\n",
       "            <b>A Game of Thrones</b><br>\n",
       "             <b>George R.R. Martin</b><br>\n",
       "            ⭐ 4.44 — 📝 55705 reviews\n",
       "        </div>\n",
       "    </div>\n",
       "    \n",
       "    <div style=\"display:flex; align-items:center; margin:10px 0;\">\n",
       "        <img src=\"https://i.gr-assets.com/images/S/compressed.photo.goodreads.com/books/1322103400l/10507293.jpg\" style=\"height:100px; margin-right:10px;\">\n",
       "        <div>\n",
       "            <b>The Selection</b><br>\n",
       "             <b>Kiera Cass</b><br>\n",
       "            ⭐ 4.12 — 📝 54031 reviews\n",
       "        </div>\n",
       "    </div>\n",
       "    \n",
       "    <div style=\"display:flex; align-items:center; margin:10px 0;\">\n",
       "        <img src=\"https://i.gr-assets.com/images/S/compressed.photo.goodreads.com/books/1355886270l/16068905.jpg\" style=\"height:100px; margin-right:10px;\">\n",
       "        <div>\n",
       "            <b>Fangirl</b><br>\n",
       "             <b>Rainbow Rowell</b><br>\n",
       "            ⭐ 4.03 — 📝 53078 reviews\n",
       "        </div>\n",
       "    </div>\n",
       "    \n",
       "    <div style=\"display:flex; align-items:center; margin:10px 0;\">\n",
       "        <img src=\"https://i.gr-assets.com/images/S/compressed.photo.goodreads.com/books/1383718290l/13079982.jpg\" style=\"height:100px; margin-right:10px;\">\n",
       "        <div>\n",
       "            <b>Fahrenheit 451</b><br>\n",
       "             <b>Ray Bradbury</b><br>\n",
       "            ⭐ 3.99 — 📝 51835 reviews\n",
       "        </div>\n",
       "    </div>\n",
       "    \n",
       "    <div style=\"display:flex; align-items:center; margin:10px 0;\">\n",
       "        <img src=\"https://i.gr-assets.com/images/S/compressed.photo.goodreads.com/books/1497098563l/15783514._SY475_.jpg\" style=\"height:100px; margin-right:10px;\">\n",
       "        <div>\n",
       "            <b>The Ocean at the End of the Lane</b><br>\n",
       "             <b>Neil Gaiman</b><br>\n",
       "            ⭐ 4.0 — 📝 49718 reviews\n",
       "        </div>\n",
       "    </div>\n",
       "    \n",
       "    <div style=\"display:flex; align-items:center; margin:10px 0;\">\n",
       "        <img src=\"https://i.gr-assets.com/images/S/compressed.photo.goodreads.com/books/1339533695l/10194157.jpg\" style=\"height:100px; margin-right:10px;\">\n",
       "        <div>\n",
       "            <b>Shadow and Bone</b><br>\n",
       "             <b>Leigh Bardugo</b><br>\n",
       "            ⭐ 3.98 — 📝 48931 reviews\n",
       "        </div>\n",
       "    </div>\n",
       "    \n",
       "    <div style=\"display:flex; align-items:center; margin:10px 0;\">\n",
       "        <img src=\"https://i.gr-assets.com/images/S/compressed.photo.goodreads.com/books/1361039438l/1162543._SY475_.jpg\" style=\"height:100px; margin-right:10px;\">\n",
       "        <div>\n",
       "            <b>Breaking Dawn</b><br>\n",
       "             <b>Stephenie Meyer</b><br>\n",
       "            ⭐ 3.71 — 📝 48003 reviews\n",
       "        </div>\n",
       "    </div>\n",
       "    \n",
       "    <div style=\"display:flex; align-items:center; margin:10px 0;\">\n",
       "        <img src=\"https://i.gr-assets.com/images/S/compressed.photo.goodreads.com/books/1529065012l/10964._SY475_.jpg\" style=\"height:100px; margin-right:10px;\">\n",
       "        <div>\n",
       "            <b>Outlander</b><br>\n",
       "             <b>Diana Gabaldon</b><br>\n",
       "            ⭐ 4.23 — 📝 47147 reviews\n",
       "        </div>\n",
       "    </div>\n",
       "    \n",
       "    <div style=\"display:flex; align-items:center; margin:10px 0;\">\n",
       "        <img src=\"https://i.gr-assets.com/images/S/compressed.photo.goodreads.com/books/1557343311l/10210._SY475_.jpg\" style=\"height:100px; margin-right:10px;\">\n",
       "        <div>\n",
       "            <b>Jane Eyre</b><br>\n",
       "             <b>Charlotte BrontÃ«,Michael Mason,SylvÃ¨re Monod,Barnett Freedman</b><br>\n",
       "            ⭐ 4.13 — 📝 45625 reviews\n",
       "        </div>\n",
       "    </div>\n",
       "    \n",
       "    <div style=\"display:flex; align-items:center; margin:10px 0;\">\n",
       "        <img src=\"https://i.gr-assets.com/images/S/compressed.photo.goodreads.com/books/1338822317l/13526165.jpg\" style=\"height:100px; margin-right:10px;\">\n",
       "        <div>\n",
       "            <b>Where'd You Go, Bernadette</b><br>\n",
       "             <b>Maria Semple</b><br>\n",
       "            ⭐ 3.89 — 📝 44211 reviews\n",
       "        </div>\n",
       "    </div>\n",
       "    \n",
       "    <div style=\"display:flex; align-items:center; margin:10px 0;\">\n",
       "        <img src=\"https://i.gr-assets.com/images/S/compressed.photo.goodreads.com/books/1367545443l/157993.jpg\" style=\"height:100px; margin-right:10px;\">\n",
       "        <div>\n",
       "            <b>The Little Prince</b><br>\n",
       "             <b>Antoine de Saint-ExupÃ©ry,Richard Howard,Ivan Minatti,Nguyá»…n ThÃ nh VÅ©</b><br>\n",
       "            ⭐ 4.31 — 📝 43913 reviews\n",
       "        </div>\n",
       "    </div>\n",
       "    \n",
       "    <div style=\"display:flex; align-items:center; margin:10px 0;\">\n",
       "        <img src=\"https://i.gr-assets.com/images/S/compressed.photo.goodreads.com/books/1331154660l/11250317.jpg\" style=\"height:100px; margin-right:10px;\">\n",
       "        <div>\n",
       "            <b>The Song of Achilles</b><br>\n",
       "             <b>Madeline Miller</b><br>\n",
       "            ⭐ 4.4 — 📝 41934 reviews\n",
       "        </div>\n",
       "    </div>\n",
       "    \n",
       "    <div style=\"display:flex; align-items:center; margin:10px 0;\">\n",
       "        <img src=\"https://i.gr-assets.com/images/S/compressed.photo.goodreads.com/books/1318009171l/1656001.jpg\" style=\"height:100px; margin-right:10px;\">\n",
       "        <div>\n",
       "            <b>The Host</b><br>\n",
       "             <b>Stephenie Meyer</b><br>\n",
       "            ⭐ 3.84 — 📝 41905 reviews\n",
       "        </div>\n",
       "    </div>\n",
       "    \n",
       "    <div style=\"display:flex; align-items:center; margin:10px 0;\">\n",
       "        <img src=\"https://i.gr-assets.com/images/S/compressed.photo.goodreads.com/books/1453189881l/12262741._SY475_.jpg\" style=\"height:100px; margin-right:10px;\">\n",
       "        <div>\n",
       "            <b>Wild: From Lost to Found on the Pacific Crest Trail</b><br>\n",
       "             <b>Cheryl Strayed</b><br>\n",
       "            ⭐ 4.02 — 📝 41590 reviews\n",
       "        </div>\n",
       "    </div>\n",
       "    \n",
       "    <div style=\"display:flex; align-items:center; margin:10px 0;\">\n",
       "        <img src=\"https://i.gr-assets.com/images/S/compressed.photo.goodreads.com/books/1457810586l/12232938.jpg\" style=\"height:100px; margin-right:10px;\">\n",
       "        <div>\n",
       "            <b>The Lovely Bones</b><br>\n",
       "             <b>Alice Sebold</b><br>\n",
       "            ⭐ 3.82 — 📝 41393 reviews\n",
       "        </div>\n",
       "    </div>\n",
       "    \n",
       "    <div style=\"display:flex; align-items:center; margin:10px 0;\">\n",
       "        <img src=\"https://i.gr-assets.com/images/S/compressed.photo.goodreads.com/books/1371651741l/16181775.jpg\" style=\"height:100px; margin-right:10px;\">\n",
       "        <div>\n",
       "            <b>The Rosie Project</b><br>\n",
       "             <b>Graeme Simsion</b><br>\n",
       "            ⭐ 4.02 — 📝 41360 reviews\n",
       "        </div>\n",
       "    </div>\n",
       "    \n",
       "    <div style=\"display:flex; align-items:center; margin:10px 0;\">\n",
       "        <img src=\"https://i.gr-assets.com/images/S/compressed.photo.goodreads.com/books/1372086100l/15749186.jpg\" style=\"height:100px; margin-right:10px;\">\n",
       "        <div>\n",
       "            <b>To All the Boys I've Loved Before</b><br>\n",
       "             <b>Jenny Han</b><br>\n",
       "            ⭐ 4.13 — 📝 41026 reviews\n",
       "        </div>\n",
       "    </div>\n",
       "    \n",
       "    <div style=\"display:flex; align-items:center; margin:10px 0;\">\n",
       "        <img src=\"https://i.gr-assets.com/images/S/compressed.photo.goodreads.com/books/1327876792l/10644930.jpg\" style=\"height:100px; margin-right:10px;\">\n",
       "        <div>\n",
       "            <b>11/22/63</b><br>\n",
       "             <b>Stephen King</b><br>\n",
       "            ⭐ 4.3 — 📝 39621 reviews\n",
       "        </div>\n",
       "    </div>\n",
       "    \n",
       "    <div style=\"display:flex; align-items:center; margin:10px 0;\">\n",
       "        <img src=\"https://i.gr-assets.com/images/S/compressed.photo.goodreads.com/books/1157865731l/1232.jpg\" style=\"height:100px; margin-right:10px;\">\n",
       "        <div>\n",
       "            <b>The Shadow of the Wind</b><br>\n",
       "             <b>Carlos Ruiz ZafÃ³n,Lucia Graves</b><br>\n",
       "            ⭐ 4.27 — 📝 38705 reviews\n",
       "        </div>\n",
       "    </div>\n",
       "    \n",
       "    <div style=\"display:flex; align-items:center; margin:10px 0;\">\n",
       "        <img src=\"https://i.gr-assets.com/images/S/compressed.photo.goodreads.com/books/1328320260l/12000020.jpg\" style=\"height:100px; margin-right:10px;\">\n",
       "        <div>\n",
       "            <b>Aristotle and Dante Discover the Secrets of the Universe</b><br>\n",
       "             <b>Benjamin Alire SÃ¡enz</b><br>\n",
       "            ⭐ 4.33 — 📝 38180 reviews\n",
       "        </div>\n",
       "    </div>\n",
       "    \n",
       "    <div style=\"display:flex; align-items:center; margin:10px 0;\">\n",
       "        <img src=\"https://i.gr-assets.com/images/S/compressed.photo.goodreads.com/books/1391120695l/16299.jpg\" style=\"height:100px; margin-right:10px;\">\n",
       "        <div>\n",
       "            <b>And Then There Were None</b><br>\n",
       "             <b>Agatha Christie</b><br>\n",
       "            ⭐ 4.26 — 📝 37944 reviews\n",
       "        </div>\n",
       "    </div>\n",
       "    \n",
       "    <div style=\"display:flex; align-items:center; margin:10px 0;\">\n",
       "        <img src=\"https://i.gr-assets.com/images/S/compressed.photo.goodreads.com/books/1336683021l/13158800.jpg\" style=\"height:100px; margin-right:10px;\">\n",
       "        <div>\n",
       "            <b>The Light Between Oceans</b><br>\n",
       "             <b>M.L. Stedman</b><br>\n",
       "            ⭐ 4.02 — 📝 35391 reviews\n",
       "        </div>\n",
       "    </div>\n",
       "    \n",
       "    <div style=\"display:flex; align-items:center; margin:10px 0;\">\n",
       "        <img src=\"https://i.gr-assets.com/images/S/compressed.photo.goodreads.com/books/1540217136l/16160797.jpg\" style=\"height:100px; margin-right:10px;\">\n",
       "        <div>\n",
       "            <b>The Cuckoo's Calling</b><br>\n",
       "             <b>Robert Galbraith</b><br>\n",
       "            ⭐ 3.87 — 📝 34127 reviews\n",
       "        </div>\n",
       "    </div>\n",
       "    \n",
       "    <div style=\"display:flex; align-items:center; margin:10px 0;\">\n",
       "        <img src=\"https://i.gr-assets.com/images/S/compressed.photo.goodreads.com/books/1369504683l/10917.jpg\" style=\"height:100px; margin-right:10px;\">\n",
       "        <div>\n",
       "            <b>My Sister's Keeper</b><br>\n",
       "             <b>Jodi Picoult</b><br>\n",
       "            ⭐ 4.08 — 📝 33956 reviews\n",
       "        </div>\n",
       "    </div>\n",
       "    \n",
       "    <div style=\"display:flex; align-items:center; margin:10px 0;\">\n",
       "        <img src=\"https://i.gr-assets.com/images/S/compressed.photo.goodreads.com/books/1391580481l/17167166.jpg\" style=\"height:100px; margin-right:10px;\">\n",
       "        <div>\n",
       "            <b>Crown of Midnight</b><br>\n",
       "             <b>Sarah J. Maas</b><br>\n",
       "            ⭐ 4.39 — 📝 31747 reviews\n",
       "        </div>\n",
       "    </div>\n",
       "    \n",
       "    <div style=\"display:flex; align-items:center; margin:10px 0;\">\n",
       "        <img src=\"https://i.gr-assets.com/images/S/compressed.photo.goodreads.com/books/1391454595l/16248068.jpg\" style=\"height:100px; margin-right:10px;\">\n",
       "        <div>\n",
       "            <b>The Elite</b><br>\n",
       "             <b>Kiera Cass</b><br>\n",
       "            ⭐ 4.01 — 📝 31727 reviews\n",
       "        </div>\n",
       "    </div>\n",
       "    \n",
       "    <div style=\"display:flex; align-items:center; margin:10px 0;\">\n",
       "        <img src=\"https://i.gr-assets.com/images/S/compressed.photo.goodreads.com/books/1509893913l/13497818.jpg\" style=\"height:100px; margin-right:10px;\">\n",
       "        <div>\n",
       "            <b>The Casual Vacancy</b><br>\n",
       "             <b>J.K. Rowling</b><br>\n",
       "            ⭐ 3.3 — 📝 31608 reviews\n",
       "        </div>\n",
       "    </div>\n",
       "    \n",
       "    <div style=\"display:flex; align-items:center; margin:10px 0;\">\n",
       "        <img src=\"https://i.gr-assets.com/images/S/compressed.photo.goodreads.com/books/1364852559l/16085481.jpg\" style=\"height:100px; margin-right:10px;\">\n",
       "        <div>\n",
       "            <b>Crazy Rich Asians</b><br>\n",
       "             <b>Kevin Kwan</b><br>\n",
       "            ⭐ 3.86 — 📝 31606 reviews\n",
       "        </div>\n",
       "    </div>\n",
       "    \n",
       "    <div style=\"display:flex; align-items:center; margin:10px 0;\">\n",
       "        <img src=\"https://i.gr-assets.com/images/S/compressed.photo.goodreads.com/books/1362166252l/14061955.jpg\" style=\"height:100px; margin-right:10px;\">\n",
       "        <div>\n",
       "            <b>Siege and Storm</b><br>\n",
       "             <b>Leigh Bardugo</b><br>\n",
       "            ⭐ 3.91 — 📝 31236 reviews\n",
       "        </div>\n",
       "    </div>\n",
       "    \n",
       "    <div style=\"display:flex; align-items:center; margin:10px 0;\">\n",
       "        <img src=\"https://i.gr-assets.com/images/S/compressed.photo.goodreads.com/books/1310649047l/10429045.jpg\" style=\"height:100px; margin-right:10px;\">\n",
       "        <div>\n",
       "            <b>Shatter Me</b><br>\n",
       "             <b>Tahereh Mafi</b><br>\n",
       "            ⭐ 3.93 — 📝 31155 reviews\n",
       "        </div>\n",
       "    </div>\n",
       "    \n",
       "    <div style=\"display:flex; align-items:center; margin:10px 0;\">\n",
       "        <img src=\"https://i.gr-assets.com/images/S/compressed.photo.goodreads.com/books/1432730356l/1582996._SY475_.jpg\" style=\"height:100px; margin-right:10px;\">\n",
       "        <div>\n",
       "            <b>City of Ashes</b><br>\n",
       "             <b>Cassandra Clare</b><br>\n",
       "            ⭐ 4.15 — 📝 30710 reviews\n",
       "        </div>\n",
       "    </div>\n",
       "    \n",
       "    <div style=\"display:flex; align-items:center; margin:10px 0;\">\n",
       "        <img src=\"https://i.gr-assets.com/images/S/compressed.photo.goodreads.com/books/1575073611l/1617.jpg\" style=\"height:100px; margin-right:10px;\">\n",
       "        <div>\n",
       "            <b>Night</b><br>\n",
       "             <b>Elie Wiesel,Marion Wiesel,FranÃ§ois Mauriac</b><br>\n",
       "            ⭐ 4.34 — 📝 30545 reviews\n",
       "        </div>\n",
       "    </div>\n",
       "    \n",
       "    <div style=\"display:flex; align-items:center; margin:10px 0;\">\n",
       "        <img src=\"https://i.gr-assets.com/images/S/compressed.photo.goodreads.com/books/1359853842l/16101128.jpg\" style=\"height:100px; margin-right:10px;\">\n",
       "        <div>\n",
       "            <b>The 5th Wave</b><br>\n",
       "             <b>Rick Yancey</b><br>\n",
       "            ⭐ 4.03 — 📝 30213 reviews\n",
       "        </div>\n",
       "    </div>\n",
       "    \n",
       "    <div style=\"display:flex; align-items:center; margin:10px 0;\">\n",
       "        <img src=\"https://i.gr-assets.com/images/S/compressed.photo.goodreads.com/books/1362409483l/15818107.jpg\" style=\"height:100px; margin-right:10px;\">\n",
       "        <div>\n",
       "            <b>Orphan Train</b><br>\n",
       "             <b>Christina Baker Kline</b><br>\n",
       "            ⭐ 4.18 — 📝 30086 reviews\n",
       "        </div>\n",
       "    </div>\n",
       "    \n",
       "    <div style=\"display:flex; align-items:center; margin:10px 0;\">\n",
       "        <img src=\"https://i.gr-assets.com/images/S/compressed.photo.goodreads.com/books/1358266080l/11857408.jpg\" style=\"height:100px; margin-right:10px;\">\n",
       "        <div>\n",
       "            <b>Fifty Shades Darker</b><br>\n",
       "             <b>E.L. James</b><br>\n",
       "            ⭐ 3.84 — 📝 29361 reviews\n",
       "        </div>\n",
       "    </div>\n",
       "    \n",
       "    <div style=\"display:flex; align-items:center; margin:10px 0;\">\n",
       "        <img src=\"https://i.gr-assets.com/images/S/compressed.photo.goodreads.com/books/1615552073l/12067.jpg\" style=\"height:100px; margin-right:10px;\">\n",
       "        <div>\n",
       "            <b>Good Omens: The Nice and Accurate Prophecies of Agnes Nutter, Witch</b><br>\n",
       "             <b>Terry Pratchett,Neil Gaiman</b><br>\n",
       "            ⭐ 4.24 — 📝 29270 reviews\n",
       "        </div>\n",
       "    </div>\n",
       "    \n",
       "    <div style=\"display:flex; align-items:center; margin:10px 0;\">\n",
       "        <img src=\"https://i.gr-assets.com/images/S/compressed.photo.goodreads.com/books/1392398530l/14061957.jpg\" style=\"height:100px; margin-right:10px;\">\n",
       "        <div>\n",
       "            <b>Ruin and Rising</b><br>\n",
       "             <b>Leigh Bardugo</b><br>\n",
       "            ⭐ 4.06 — 📝 29072 reviews\n",
       "        </div>\n",
       "    </div>\n",
       "    \n",
       "    <div style=\"display:flex; align-items:center; margin:10px 0;\">\n",
       "        <img src=\"https://i.gr-assets.com/images/S/compressed.photo.goodreads.com/books/1358190204l/16115612.jpg\" style=\"height:100px; margin-right:10px;\">\n",
       "        <div>\n",
       "            <b>And the Mountains Echoed</b><br>\n",
       "             <b>Khaled Hosseini</b><br>\n",
       "            ⭐ 4.05 — 📝 28936 reviews\n",
       "        </div>\n",
       "    </div>\n",
       "    \n",
       "    <div style=\"display:flex; align-items:center; margin:10px 0;\">\n",
       "        <img src=\"https://i.gr-assets.com/images/S/compressed.photo.goodreads.com/books/1358259032l/11505797.jpg\" style=\"height:100px; margin-right:10px;\">\n",
       "        <div>\n",
       "            <b>Beautiful Disaster</b><br>\n",
       "             <b>Jamie McGuire</b><br>\n",
       "            ⭐ 4.08 — 📝 28914 reviews\n",
       "        </div>\n",
       "    </div>\n",
       "    \n",
       "    <div style=\"display:flex; align-items:center; margin:10px 0;\">\n",
       "        <img src=\"https://i.gr-assets.com/images/S/compressed.photo.goodreads.com/books/1387151694l/17245.jpg\" style=\"height:100px; margin-right:10px;\">\n",
       "        <div>\n",
       "            <b>Dracula</b><br>\n",
       "             <b>Bram Stoker,Nina Auerbach,David J. Skal</b><br>\n",
       "            ⭐ 4.0 — 📝 28627 reviews\n",
       "        </div>\n",
       "    </div>\n",
       "    \n",
       "    <div style=\"display:flex; align-items:center; margin:10px 0;\">\n",
       "        <img src=\"https://i.gr-assets.com/images/S/compressed.photo.goodreads.com/books/1470057005l/13206828._SY475_.jpg\" style=\"height:100px; margin-right:10px;\">\n",
       "        <div>\n",
       "            <b>Cress</b><br>\n",
       "             <b>Marissa Meyer</b><br>\n",
       "            ⭐ 4.41 — 📝 27908 reviews\n",
       "        </div>\n",
       "    </div>\n",
       "    \n",
       "    <div style=\"display:flex; align-items:center; margin:10px 0;\">\n",
       "        <img src=\"https://i.gr-assets.com/images/S/compressed.photo.goodreads.com/books/1353277730l/11588.jpg\" style=\"height:100px; margin-right:10px;\">\n",
       "        <div>\n",
       "            <b>The Shining</b><br>\n",
       "             <b>Stephen King</b><br>\n",
       "            ⭐ 4.24 — 📝 27151 reviews\n",
       "        </div>\n",
       "    </div>\n",
       "    \n",
       "    <div style=\"display:flex; align-items:center; margin:10px 0;\">\n",
       "        <img src=\"https://i.gr-assets.com/images/S/compressed.photo.goodreads.com/books/1461354651l/15839976.jpg\" style=\"height:100px; margin-right:10px;\">\n",
       "        <div>\n",
       "            <b>Red Rising</b><br>\n",
       "             <b>Pierce Brown</b><br>\n",
       "            ⭐ 4.23 — 📝 26799 reviews\n",
       "        </div>\n",
       "    </div>\n",
       "    \n",
       "    <div style=\"display:flex; align-items:center; margin:10px 0;\">\n",
       "        <img src=\"https://i.gr-assets.com/images/S/compressed.photo.goodreads.com/books/1327890411l/11614718.jpg\" style=\"height:100px; margin-right:10px;\">\n",
       "        <div>\n",
       "            <b>Delirium</b><br>\n",
       "             <b>Lauren Oliver</b><br>\n",
       "            ⭐ 3.96 — 📝 26789 reviews\n",
       "        </div>\n",
       "    </div>\n",
       "    \n",
       "    <div style=\"display:flex; align-items:center; margin:10px 0;\">\n",
       "        <img src=\"https://i.gr-assets.com/images/S/compressed.photo.goodreads.com/books/1336418837l/13536860.jpg\" style=\"height:100px; margin-right:10px;\">\n",
       "        <div>\n",
       "            <b>Fifty Shades Freed</b><br>\n",
       "             <b>E.L. James</b><br>\n",
       "            ⭐ 3.85 — 📝 26559 reviews\n",
       "        </div>\n",
       "    </div>\n",
       "    \n",
       "    <div style=\"display:flex; align-items:center; margin:10px 0;\">\n",
       "        <img src=\"https://i.gr-assets.com/images/S/compressed.photo.goodreads.com/books/1345089845l/13538873.jpg\" style=\"height:100px; margin-right:10px;\">\n",
       "        <div>\n",
       "            <b>Mr. Penumbra's 24-Hour Bookstore</b><br>\n",
       "             <b>Robin Sloan</b><br>\n",
       "            ⭐ 3.74 — 📝 26197 reviews\n",
       "        </div>\n",
       "    </div>\n",
       "    \n",
       "    <div style=\"display:flex; align-items:center; margin:10px 0;\">\n",
       "        <img src=\"https://i.gr-assets.com/images/S/compressed.photo.goodreads.com/books/1601352433l/15823480._SY475_.jpg\" style=\"height:100px; margin-right:10px;\">\n",
       "        <div>\n",
       "            <b>Anna Karenina</b><br>\n",
       "             <b>Leo Tolstoy,Constance Garnett,Aylmer Maude,Louise Maude,Dmitriy Butko,George Gibian</b><br>\n",
       "            ⭐ 4.06 — 📝 26099 reviews\n",
       "        </div>\n",
       "    </div>\n",
       "    \n",
       "    <div style=\"display:flex; align-items:center; margin:10px 0;\">\n",
       "        <img src=\"https://i.gr-assets.com/images/S/compressed.photo.goodreads.com/books/1470057036l/13206900._SY475_.jpg\" style=\"height:100px; margin-right:10px;\">\n",
       "        <div>\n",
       "            <b>Winter</b><br>\n",
       "             <b>Marissa Meyer</b><br>\n",
       "            ⭐ 4.42 — 📝 25984 reviews\n",
       "        </div>\n",
       "    </div>\n",
       "    \n",
       "    <div style=\"display:flex; align-items:center; margin:10px 0;\">\n",
       "        <img src=\"https://i.gr-assets.com/images/S/compressed.photo.goodreads.com/books/1460477747l/10025305.jpg\" style=\"height:100px; margin-right:10px;\">\n",
       "        <div>\n",
       "            <b>Clockwork Prince</b><br>\n",
       "             <b>Cassandra Clare</b><br>\n",
       "            ⭐ 4.42 — 📝 25060 reviews\n",
       "        </div>\n",
       "    </div>\n",
       "    \n",
       "    <div style=\"display:flex; align-items:center; margin:10px 0;\">\n",
       "        <img src=\"https://i.gr-assets.com/images/S/compressed.photo.goodreads.com/books/1356654499l/15796700.jpg\" style=\"height:100px; margin-right:10px;\">\n",
       "        <div>\n",
       "            <b>Americanah</b><br>\n",
       "             <b>Chimamanda Ngozi Adichie,Jashar Awan</b><br>\n",
       "            ⭐ 4.3 — 📝 24915 reviews\n",
       "        </div>\n",
       "    </div>\n",
       "    \n",
       "    <div style=\"display:flex; align-items:center; margin:10px 0;\">\n",
       "        <img src=\"https://i.gr-assets.com/images/S/compressed.photo.goodreads.com/books/1358173808l/15790842.jpg\" style=\"height:100px; margin-right:10px;\">\n",
       "        <div>\n",
       "            <b>Life After Life</b><br>\n",
       "             <b>Kate Atkinson</b><br>\n",
       "            ⭐ 3.76 — 📝 24729 reviews\n",
       "        </div>\n",
       "    </div>\n",
       "    \n",
       "    <div style=\"display:flex; align-items:center; margin:10px 0;\">\n",
       "        <img src=\"https://i.gr-assets.com/images/S/compressed.photo.goodreads.com/books/1567840212l/10572.jpg\" style=\"height:100px; margin-right:10px;\">\n",
       "        <div>\n",
       "            <b>A Clash of Kings</b><br>\n",
       "             <b>George R.R. Martin</b><br>\n",
       "            ⭐ 4.41 — 📝 24450 reviews\n",
       "        </div>\n",
       "    </div>\n",
       "    \n",
       "    <div style=\"display:flex; align-items:center; margin:10px 0;\">\n",
       "        <img src=\"https://i.gr-assets.com/images/S/compressed.photo.goodreads.com/books/1386924361l/11297.jpg\" style=\"height:100px; margin-right:10px;\">\n",
       "        <div>\n",
       "            <b>Norwegian Wood</b><br>\n",
       "             <b>Haruki Murakami,Jay Rubin</b><br>\n",
       "            ⭐ 4.03 — 📝 23958 reviews\n",
       "        </div>\n",
       "    </div>\n",
       "    \n",
       "    <div style=\"display:flex; align-items:center; margin:10px 0;\">\n",
       "        <img src=\"https://i.gr-assets.com/images/S/compressed.photo.goodreads.com/books/1348747943l/14497.jpg\" style=\"height:100px; margin-right:10px;\">\n",
       "        <div>\n",
       "            <b>Neverwhere</b><br>\n",
       "             <b>Neil Gaiman</b><br>\n",
       "            ⭐ 4.16 — 📝 23817 reviews\n",
       "        </div>\n",
       "    </div>\n",
       "    \n",
       "    <div style=\"display:flex; align-items:center; margin:10px 0;\">\n",
       "        <img src=\"https://i.gr-assets.com/images/S/compressed.photo.goodreads.com/books/1353029077l/100915.jpg\" style=\"height:100px; margin-right:10px;\">\n",
       "        <div>\n",
       "            <b>The Lion, the Witch and the Wardrobe</b><br>\n",
       "             <b>C.S. Lewis</b><br>\n",
       "            ⭐ 4.22 — 📝 23770 reviews\n",
       "        </div>\n",
       "    </div>\n",
       "    \n",
       "    <div style=\"display:flex; align-items:center; margin:10px 0;\">\n",
       "        <img src=\"https://i.gr-assets.com/images/S/compressed.photo.goodreads.com/books/1505766203l/119322._SX318_.jpg\" style=\"height:100px; margin-right:10px;\">\n",
       "        <div>\n",
       "            <b>The Golden Compass</b><br>\n",
       "             <b>Philip Pullman</b><br>\n",
       "            ⭐ 3.99 — 📝 23705 reviews\n",
       "        </div>\n",
       "    </div>\n",
       "    \n",
       "    <div style=\"display:flex; align-items:center; margin:10px 0;\">\n",
       "        <img src=\"https://i.gr-assets.com/images/S/compressed.photo.goodreads.com/books/1493497435l/17061._SY475_.jpg\" style=\"height:100px; margin-right:10px;\">\n",
       "        <div>\n",
       "            <b>Coraline</b><br>\n",
       "             <b>Neil Gaiman,Dave McKean</b><br>\n",
       "            ⭐ 4.05 — 📝 23008 reviews\n",
       "        </div>\n",
       "    </div>\n",
       "    \n",
       "    <div style=\"display:flex; align-items:center; margin:10px 0;\">\n",
       "        <img src=\"https://i.gr-assets.com/images/S/compressed.photo.goodreads.com/books/1366212852l/113436.jpg\" style=\"height:100px; margin-right:10px;\">\n",
       "        <div>\n",
       "            <b>Eragon</b><br>\n",
       "             <b>Christopher Paolini</b><br>\n",
       "            ⭐ 3.91 — 📝 23007 reviews\n",
       "        </div>\n",
       "    </div>\n",
       "    \n",
       "    <div style=\"display:flex; align-items:center; margin:10px 0;\">\n",
       "        <img src=\"https://i.gr-assets.com/images/S/compressed.photo.goodreads.com/books/1452624392l/1215032.jpg\" style=\"height:100px; margin-right:10px;\">\n",
       "        <div>\n",
       "            <b>The Wise Man's Fear</b><br>\n",
       "             <b>Patrick Rothfuss</b><br>\n",
       "            ⭐ 4.54 — 📝 22777 reviews\n",
       "        </div>\n",
       "    </div>\n",
       "    \n",
       "    <div style=\"display:flex; align-items:center; margin:10px 0;\">\n",
       "        <img src=\"https://i.gr-assets.com/images/S/compressed.photo.goodreads.com/books/1213131305l/149267.jpg\" style=\"height:100px; margin-right:10px;\">\n",
       "        <div>\n",
       "            <b>The Stand</b><br>\n",
       "             <b>Stephen King,Bernie Wrightson</b><br>\n",
       "            ⭐ 4.34 — 📝 22736 reviews\n",
       "        </div>\n",
       "    </div>\n",
       "    \n",
       "    <div style=\"display:flex; align-items:center; margin:10px 0;\">\n",
       "        <img src=\"https://i.gr-assets.com/images/S/compressed.photo.goodreads.com/books/1443264638l/10335308._SY475_.jpg\" style=\"height:100px; margin-right:10px;\">\n",
       "        <div>\n",
       "            <b>Is Everyone Hanging Out Without Me? (And Other Concerns)</b><br>\n",
       "             <b>Mindy Kaling</b><br>\n",
       "            ⭐ 3.86 — 📝 22699 reviews\n",
       "        </div>\n",
       "    </div>\n",
       "    \n",
       "    <div style=\"display:flex; align-items:center; margin:10px 0;\">\n",
       "        <img src=\"https://i.gr-assets.com/images/S/compressed.photo.goodreads.com/books/1581625286l/10664113._SX318_.jpg\" style=\"height:100px; margin-right:10px;\">\n",
       "        <div>\n",
       "            <b>A Dance with Dragons</b><br>\n",
       "             <b>George R.R. Martin</b><br>\n",
       "            ⭐ 4.32 — 📝 22575 reviews\n",
       "        </div>\n",
       "    </div>\n",
       "    \n",
       "    <div style=\"display:flex; align-items:center; margin:10px 0;\">\n",
       "        <img src=\"https://i.gr-assets.com/images/S/compressed.photo.goodreads.com/books/1353489892l/15717943.jpg\" style=\"height:100px; margin-right:10px;\">\n",
       "        <div>\n",
       "            <b>Hopeless</b><br>\n",
       "             <b>Colleen Hoover</b><br>\n",
       "            ⭐ 4.28 — 📝 22364 reviews\n",
       "        </div>\n",
       "    </div>\n",
       "    \n",
       "    <div style=\"display:flex; align-items:center; margin:10px 0;\">\n",
       "        <img src=\"https://i.gr-assets.com/images/S/compressed.photo.goodreads.com/books/1354683116l/16158542.jpg\" style=\"height:100px; margin-right:10px;\">\n",
       "        <div>\n",
       "            <b>The Boys in the Boat: Nine Americans and Their Epic Quest for Gold at the 1936 Berlin Olympics</b><br>\n",
       "             <b>Daniel James Brown</b><br>\n",
       "            ⭐ 4.34 — 📝 22335 reviews\n",
       "        </div>\n",
       "    </div>\n",
       "    \n",
       "    <div style=\"display:flex; align-items:center; margin:10px 0;\">\n",
       "        <img src=\"https://i.gr-assets.com/images/S/compressed.photo.goodreads.com/books/1429538615l/13497.jpg\" style=\"height:100px; margin-right:10px;\">\n",
       "        <div>\n",
       "            <b>A Feast for Crows</b><br>\n",
       "             <b>George R.R. Martin</b><br>\n",
       "            ⭐ 4.14 — 📝 22145 reviews\n",
       "        </div>\n",
       "    </div>\n",
       "    \n",
       "    <div style=\"display:flex; align-items:center; margin:10px 0;\">\n",
       "        <img src=\"https://i.gr-assets.com/images/S/compressed.photo.goodreads.com/books/1327883484l/14891.jpg\" style=\"height:100px; margin-right:10px;\">\n",
       "        <div>\n",
       "            <b>A Tree Grows in Brooklyn</b><br>\n",
       "             <b>Betty  Smith</b><br>\n",
       "            ⭐ 4.27 — 📝 21713 reviews\n",
       "        </div>\n",
       "    </div>\n",
       "    \n",
       "    <div style=\"display:flex; align-items:center; margin:10px 0;\">\n",
       "        <img src=\"https://i.gr-assets.com/images/S/compressed.photo.goodreads.com/books/1329612158l/11367726.jpg\" style=\"height:100px; margin-right:10px;\">\n",
       "        <div>\n",
       "            <b>Defending Jacob</b><br>\n",
       "             <b>William Landay</b><br>\n",
       "            ⭐ 3.99 — 📝 21661 reviews\n",
       "        </div>\n",
       "    </div>\n",
       "    \n",
       "    <div style=\"display:flex; align-items:center; margin:10px 0;\">\n",
       "        <img src=\"https://i.gr-assets.com/images/S/compressed.photo.goodreads.com/books/1356993940l/13262783.jpg\" style=\"height:100px; margin-right:10px;\">\n",
       "        <div>\n",
       "            <b>Every Day</b><br>\n",
       "             <b>David Levithan</b><br>\n",
       "            ⭐ 3.93 — 📝 20995 reviews\n",
       "        </div>\n",
       "    </div>\n",
       "    \n",
       "    <div style=\"display:flex; align-items:center; margin:10px 0;\">\n",
       "        <img src=\"https://i.gr-assets.com/images/S/compressed.photo.goodreads.com/books/1403033579l/17235026.jpg\" style=\"height:100px; margin-right:10px;\">\n",
       "        <div>\n",
       "            <b>The Girl with All the Gifts</b><br>\n",
       "             <b>M.R. Carey</b><br>\n",
       "            ⭐ 3.94 — 📝 20468 reviews\n",
       "        </div>\n",
       "    </div>\n",
       "    \n",
       "    <div style=\"display:flex; align-items:center; margin:10px 0;\">\n",
       "        <img src=\"https://i.gr-assets.com/images/S/compressed.photo.goodreads.com/books/1362435448l/1472878.jpg\" style=\"height:100px; margin-right:10px;\">\n",
       "        <div>\n",
       "            <b>Firefly Lane</b><br>\n",
       "             <b>Kristin Hannah</b><br>\n",
       "            ⭐ 4.11 — 📝 20238 reviews\n",
       "        </div>\n",
       "    </div>\n",
       "    \n",
       "    <div style=\"display:flex; align-items:center; margin:10px 0;\">\n",
       "        <img src=\"https://i.gr-assets.com/images/S/compressed.photo.goodreads.com/books/1333577674l/10032672.jpg\" style=\"height:100px; margin-right:10px;\">\n",
       "        <div>\n",
       "            <b>The Language of Flowers</b><br>\n",
       "             <b>Vanessa Diffenbaugh</b><br>\n",
       "            ⭐ 4.08 — 📝 20157 reviews\n",
       "        </div>\n",
       "    </div>\n",
       "    \n",
       "    <div style=\"display:flex; align-items:center; margin:10px 0;\">\n",
       "        <img src=\"https://i.gr-assets.com/images/S/compressed.photo.goodreads.com/books/1510335480l/16130549._SY475_.jpg\" style=\"height:100px; margin-right:10px;\">\n",
       "        <div>\n",
       "            <b>Doctor Sleep</b><br>\n",
       "             <b>Stephen King</b><br>\n",
       "            ⭐ 4.11 — 📝 20108 reviews\n",
       "        </div>\n",
       "    </div>\n",
       "    \n",
       "    <div style=\"display:flex; align-items:center; margin:10px 0;\">\n",
       "        <img src=\"https://i.gr-assets.com/images/S/compressed.photo.goodreads.com/books/1459127484l/16793.jpg\" style=\"height:100px; margin-right:10px;\">\n",
       "        <div>\n",
       "            <b>Stardust</b><br>\n",
       "             <b>Neil Gaiman</b><br>\n",
       "            ⭐ 4.08 — 📝 19604 reviews\n",
       "        </div>\n",
       "    </div>\n",
       "    \n",
       "    <div style=\"display:flex; align-items:center; margin:10px 0;\">\n",
       "        <img src=\"https://i.gr-assets.com/images/S/compressed.photo.goodreads.com/books/1552112312l/10441._SY475_.jpg\" style=\"height:100px; margin-right:10px;\">\n",
       "        <div>\n",
       "            <b>The Memory Keeper's Daughter</b><br>\n",
       "             <b>Kim Edwards</b><br>\n",
       "            ⭐ 3.68 — 📝 19550 reviews\n",
       "        </div>\n",
       "    </div>\n",
       "    \n",
       "    <div style=\"display:flex; align-items:center; margin:10px 0;\">\n",
       "        <img src=\"https://i.gr-assets.com/images/S/compressed.photo.goodreads.com/books/1463157317l/168668.jpg\" style=\"height:100px; margin-right:10px;\">\n",
       "        <div>\n",
       "            <b>Catch-22</b><br>\n",
       "             <b>Joseph Heller</b><br>\n",
       "            ⭐ 3.98 — 📝 19156 reviews\n",
       "        </div>\n",
       "    </div>\n",
       "    \n",
       "    <div style=\"display:flex; align-items:center; margin:10px 0;\">\n",
       "        <img src=\"https://i.gr-assets.com/images/S/compressed.photo.goodreads.com/books/1511288482l/11084145._SY475_.jpg\" style=\"height:100px; margin-right:10px;\">\n",
       "        <div>\n",
       "            <b>Steve Jobs</b><br>\n",
       "             <b>Walter Isaacson</b><br>\n",
       "            ⭐ 4.14 — 📝 19077 reviews\n",
       "        </div>\n",
       "    </div>\n",
       "    \n",
       "    <div style=\"display:flex; align-items:center; margin:10px 0;\">\n",
       "        <img src=\"https://i.gr-assets.com/images/S/compressed.photo.goodreads.com/books/1483103331l/10357575.jpg\" style=\"height:100px; margin-right:10px;\">\n",
       "        <div>\n",
       "            <b>1Q84</b><br>\n",
       "             <b>Haruki Murakami,Jay Rubin,Philip Gabriel</b><br>\n",
       "            ⭐ 3.92 — 📝 18768 reviews\n",
       "        </div>\n",
       "    </div>\n",
       "    \n",
       "    <div style=\"display:flex; align-items:center; margin:10px 0;\">\n",
       "        <img src=\"https://i.gr-assets.com/images/S/compressed.photo.goodreads.com/books/1436735207l/10569._SY475_.jpg\" style=\"height:100px; margin-right:10px;\">\n",
       "        <div>\n",
       "            <b>On Writing: A Memoir of the Craft</b><br>\n",
       "             <b>Stephen King</b><br>\n",
       "            ⭐ 4.32 — 📝 18681 reviews\n",
       "        </div>\n",
       "    </div>\n",
       "    \n",
       "    <div style=\"display:flex; align-items:center; margin:10px 0;\">\n",
       "        <img src=\"https://i.gr-assets.com/images/S/compressed.photo.goodreads.com/books/1328275091l/12578077.jpg\" style=\"height:100px; margin-right:10px;\">\n",
       "        <div>\n",
       "            <b>Obsidian</b><br>\n",
       "             <b>Jennifer L. Armentrout</b><br>\n",
       "            ⭐ 4.15 — 📝 18577 reviews\n",
       "        </div>\n",
       "    </div>\n",
       "    \n",
       "    <div style=\"display:flex; align-items:center; margin:10px 0;\">\n",
       "        <img src=\"https://i.gr-assets.com/images/S/compressed.photo.goodreads.com/books/1545854312l/12609433._SY475_.jpg\" style=\"height:100px; margin-right:10px;\">\n",
       "        <div>\n",
       "            <b>The Power of Habit: Why We Do What We Do in Life and Business</b><br>\n",
       "             <b>Charles Duhigg</b><br>\n",
       "            ⭐ 4.11 — 📝 18450 reviews\n",
       "        </div>\n",
       "    </div>\n",
       "    \n",
       "    <div style=\"display:flex; align-items:center; margin:10px 0;\">\n",
       "        <img src=\"https://i.gr-assets.com/images/S/compressed.photo.goodreads.com/books/1489415716l/12868761._SY475_.jpg\" style=\"height:100px; margin-right:10px;\">\n",
       "        <div>\n",
       "            <b>Let's Pretend This Never Happened: A Mostly True Memoir</b><br>\n",
       "             <b>Jenny  Lawson</b><br>\n",
       "            ⭐ 3.87 — 📝 18391 reviews\n",
       "        </div>\n",
       "    </div>\n",
       "    \n",
       "    <div style=\"display:flex; align-items:center; margin:10px 0;\">\n",
       "        <img src=\"https://i.gr-assets.com/images/S/compressed.photo.goodreads.com/books/1397245675l/14935._SY475_.jpg\" style=\"height:100px; margin-right:10px;\">\n",
       "        <div>\n",
       "            <b>Sense and Sensibility</b><br>\n",
       "             <b>Jane Austen,Tony Tanner,Juliet Stevenson,Sam Ngo,Sara Singh,Rosalind Ballaster,Ros Ballaster</b><br>\n",
       "            ⭐ 4.08 — 📝 18322 reviews\n",
       "        </div>\n",
       "    </div>\n",
       "    \n",
       "    <div style=\"display:flex; align-items:center; margin:10px 0;\">\n",
       "        <img src=\"https://i.gr-assets.com/images/S/compressed.photo.goodreads.com/books/1335816092l/13227454.jpg\" style=\"height:100px; margin-right:10px;\">\n",
       "        <div>\n",
       "            <b>The Unlikely Pilgrimage of Harold Fry</b><br>\n",
       "             <b>Rachel Joyce</b><br>\n",
       "            ⭐ 3.91 — 📝 18179 reviews\n",
       "        </div>\n",
       "    </div>\n",
       "    \n",
       "    <div style=\"display:flex; align-items:center; margin:10px 0;\">\n",
       "        <img src=\"https://i.gr-assets.com/images/S/compressed.photo.goodreads.com/books/1424931136l/168642.jpg\" style=\"height:100px; margin-right:10px;\">\n",
       "        <div>\n",
       "            <b>In Cold Blood</b><br>\n",
       "             <b>Truman Capote</b><br>\n",
       "            ⭐ 4.06 — 📝 17804 reviews\n",
       "        </div>\n",
       "    </div>\n",
       "    \n",
       "    <div style=\"display:flex; align-items:center; margin:10px 0;\">\n",
       "        <img src=\"https://i.gr-assets.com/images/S/compressed.photo.goodreads.com/books/1464201354l/12127750._SY475_.jpg\" style=\"height:100px; margin-right:10px;\">\n",
       "        <div>\n",
       "            <b>The Mark of Athena</b><br>\n",
       "             <b>Rick Riordan</b><br>\n",
       "            ⭐ 4.44 — 📝 17668 reviews\n",
       "        </div>\n",
       "    </div>\n",
       "    \n",
       "    <div style=\"display:flex; align-items:center; margin:10px 0;\">\n",
       "        <img src=\"https://i.gr-assets.com/images/S/compressed.photo.goodreads.com/books/1343178841l/10576365.jpg\" style=\"height:100px; margin-right:10px;\">\n",
       "        <div>\n",
       "            <b>The Darkest Minds</b><br>\n",
       "             <b>Alexandra Bracken</b><br>\n",
       "            ⭐ 4.16 — 📝 17048 reviews\n",
       "        </div>\n",
       "    </div>\n",
       "    \n",
       "    <div style=\"display:flex; align-items:center; margin:10px 0;\">\n",
       "        <img src=\"https://i.gr-assets.com/images/S/compressed.photo.goodreads.com/books/1375972497l/13188676.jpg\" style=\"height:100px; margin-right:10px;\">\n",
       "        <div>\n",
       "            <b>Ignite Me</b><br>\n",
       "             <b>Tahereh Mafi</b><br>\n",
       "            ⭐ 4.38 — 📝 16949 reviews\n",
       "        </div>\n",
       "    </div>\n",
       "    \n",
       "    <div style=\"display:flex; align-items:center; margin:10px 0;\">\n",
       "        <img src=\"https://i.gr-assets.com/images/S/compressed.photo.goodreads.com/books/1550917827l/1202._SX318_.jpg\" style=\"height:100px; margin-right:10px;\">\n",
       "        <div>\n",
       "            <b>Freakonomics: A Rogue Economist Explores the Hidden Side of Everything</b><br>\n",
       "             <b>Steven D. Levitt,Stephen J. Dubner</b><br>\n",
       "            ⭐ 3.98 — 📝 16888 reviews\n",
       "        </div>\n",
       "    </div>\n",
       "    "
      ],
      "text/plain": [
       "<IPython.core.display.HTML object>"
      ]
     },
     "execution_count": 23,
     "metadata": {},
     "output_type": "execute_result"
    }
   ],
   "source": [
    "from IPython.core.display import HTML\n",
    "\n",
    "def render_book(row):\n",
    "    return f'''\n",
    "    <div style=\"display:flex; align-items:center; margin:10px 0;\">\n",
    "        <img src=\"{row['Image_URL']}\" style=\"height:100px; margin-right:10px;\">\n",
    "        <div>\n",
    "            <b>{row['Title']}</b><br>\n",
    "             <b>{row['Author']}</b><br>\n",
    "            ⭐ {row['Average_Rating']} — 📝 {row['Number_of_Reviews']} reviews\n",
    "        </div>\n",
    "    </div>\n",
    "    '''\n",
    "\n",
    "HTML(''.join(top_100_books.apply(render_book, axis=1).tolist()))"
   ]
  },
  {
   "cell_type": "markdown",
   "id": "85eaee89",
   "metadata": {
    "papermill": {
     "duration": 0.013674,
     "end_time": "2025-05-31T07:24:01.511612",
     "exception": false,
     "start_time": "2025-05-31T07:24:01.497938",
     "status": "completed"
    },
    "tags": []
   },
   "source": [
    "> ### Export to CSV (If Needed)"
   ]
  },
  {
   "cell_type": "code",
   "execution_count": 24,
   "id": "bf81c68f",
   "metadata": {
    "execution": {
     "iopub.execute_input": "2025-05-31T07:24:01.539362Z",
     "iopub.status.busy": "2025-05-31T07:24:01.539147Z",
     "iopub.status.idle": "2025-05-31T07:24:01.548280Z",
     "shell.execute_reply": "2025-05-31T07:24:01.547619Z"
    },
    "papermill": {
     "duration": 0.024229,
     "end_time": "2025-05-31T07:24:01.549328",
     "exception": false,
     "start_time": "2025-05-31T07:24:01.525099",
     "status": "completed"
    },
    "tags": []
   },
   "outputs": [],
   "source": [
    "top_100_books.to_csv(\"top_100_popular_books.csv\", index=False)"
   ]
  },
  {
   "cell_type": "markdown",
   "id": "5af81d77",
   "metadata": {
    "papermill": {
     "duration": 0.013438,
     "end_time": "2025-05-31T07:24:01.576421",
     "exception": false,
     "start_time": "2025-05-31T07:24:01.562983",
     "status": "completed"
    },
    "tags": []
   },
   "source": [
    "# Collaborative Filtering Using Ratings Matrix"
   ]
  },
  {
   "cell_type": "markdown",
   "id": "823a2fc5",
   "metadata": {
    "papermill": {
     "duration": 0.013254,
     "end_time": "2025-05-31T07:24:01.603211",
     "exception": false,
     "start_time": "2025-05-31T07:24:01.589957",
     "status": "completed"
    },
    "tags": []
   },
   "source": [
    ">###  Import Libraries"
   ]
  },
  {
   "cell_type": "code",
   "execution_count": 25,
   "id": "400dbd54",
   "metadata": {
    "execution": {
     "iopub.execute_input": "2025-05-31T07:24:01.631432Z",
     "iopub.status.busy": "2025-05-31T07:24:01.631025Z",
     "iopub.status.idle": "2025-05-31T07:24:01.856821Z",
     "shell.execute_reply": "2025-05-31T07:24:01.856278Z"
    },
    "papermill": {
     "duration": 0.241289,
     "end_time": "2025-05-31T07:24:01.858094",
     "exception": false,
     "start_time": "2025-05-31T07:24:01.616805",
     "status": "completed"
    },
    "tags": []
   },
   "outputs": [],
   "source": [
    "import pandas as pd\n",
    "from sklearn.metrics.pairwise import cosine_similarity\n",
    "from sklearn.feature_extraction.text import CountVectorizer"
   ]
  },
  {
   "cell_type": "markdown",
   "id": "9d721de4",
   "metadata": {
    "papermill": {
     "duration": 0.013516,
     "end_time": "2025-05-31T07:24:01.885995",
     "exception": false,
     "start_time": "2025-05-31T07:24:01.872479",
     "status": "completed"
    },
    "tags": []
   },
   "source": [
    "> #### Vectorize Book Titles (for indexing)"
   ]
  },
  {
   "cell_type": "code",
   "execution_count": 26,
   "id": "51eaef76",
   "metadata": {
    "execution": {
     "iopub.execute_input": "2025-05-31T07:24:01.913991Z",
     "iopub.status.busy": "2025-05-31T07:24:01.913551Z",
     "iopub.status.idle": "2025-05-31T07:24:01.921677Z",
     "shell.execute_reply": "2025-05-31T07:24:01.920989Z"
    },
    "papermill": {
     "duration": 0.023299,
     "end_time": "2025-05-31T07:24:01.922805",
     "exception": false,
     "start_time": "2025-05-31T07:24:01.899506",
     "status": "completed"
    },
    "tags": []
   },
   "outputs": [],
   "source": [
    "# Clean and index book titles\n",
    "df['title'] = df['title'].astype(str)"
   ]
  },
  {
   "cell_type": "markdown",
   "id": "1c753502",
   "metadata": {
    "papermill": {
     "duration": 0.013362,
     "end_time": "2025-05-31T07:24:01.950472",
     "exception": false,
     "start_time": "2025-05-31T07:24:01.937110",
     "status": "completed"
    },
    "tags": []
   },
   "source": [
    "> ### Collaborative Filtering Using Book Descriptions"
   ]
  },
  {
   "cell_type": "code",
   "execution_count": 27,
   "id": "3709779c",
   "metadata": {
    "execution": {
     "iopub.execute_input": "2025-05-31T07:24:01.979121Z",
     "iopub.status.busy": "2025-05-31T07:24:01.978707Z",
     "iopub.status.idle": "2025-05-31T07:24:02.038103Z",
     "shell.execute_reply": "2025-05-31T07:24:02.037202Z"
    },
    "papermill": {
     "duration": 0.075275,
     "end_time": "2025-05-31T07:24:02.039598",
     "exception": false,
     "start_time": "2025-05-31T07:24:01.964323",
     "status": "completed"
    },
    "tags": []
   },
   "outputs": [],
   "source": [
    "# Keep only top 20,000 books by reviews\n",
    "reduced_df = df.sort_values(by='reviews', ascending=False).head(20000).reset_index(drop=True)"
   ]
  },
  {
   "cell_type": "code",
   "execution_count": 28,
   "id": "1da69ee3",
   "metadata": {
    "execution": {
     "iopub.execute_input": "2025-05-31T07:24:02.069550Z",
     "iopub.status.busy": "2025-05-31T07:24:02.069328Z",
     "iopub.status.idle": "2025-05-31T07:24:04.206196Z",
     "shell.execute_reply": "2025-05-31T07:24:04.205624Z"
    },
    "papermill": {
     "duration": 2.152663,
     "end_time": "2025-05-31T07:24:04.207488",
     "exception": false,
     "start_time": "2025-05-31T07:24:02.054825",
     "status": "completed"
    },
    "tags": []
   },
   "outputs": [],
   "source": [
    "from sklearn.feature_extraction.text import TfidfVectorizer\n",
    "\n",
    "# Limit features to top 10,000 tokens\n",
    "tfidf = TfidfVectorizer(max_features=10000, stop_words='english')\n",
    "tfidf_matrix = tfidf.fit_transform(reduced_df['desc'].fillna(''))"
   ]
  },
  {
   "cell_type": "markdown",
   "id": "ee2cfec5",
   "metadata": {
    "papermill": {
     "duration": 0.013551,
     "end_time": "2025-05-31T07:24:04.235949",
     "exception": false,
     "start_time": "2025-05-31T07:24:04.222398",
     "status": "completed"
    },
    "tags": []
   },
   "source": [
    "> ### Build the Recommender Function"
   ]
  },
  {
   "cell_type": "code",
   "execution_count": 29,
   "id": "b28c0251",
   "metadata": {
    "execution": {
     "iopub.execute_input": "2025-05-31T07:24:04.264488Z",
     "iopub.status.busy": "2025-05-31T07:24:04.264005Z",
     "iopub.status.idle": "2025-05-31T07:24:04.268109Z",
     "shell.execute_reply": "2025-05-31T07:24:04.267631Z"
    },
    "papermill": {
     "duration": 0.019746,
     "end_time": "2025-05-31T07:24:04.269160",
     "exception": false,
     "start_time": "2025-05-31T07:24:04.249414",
     "status": "completed"
    },
    "tags": []
   },
   "outputs": [],
   "source": [
    "from sklearn.metrics.pairwise import cosine_similarity\n",
    "\n",
    "def get_recommendations(query_title, top_k=5):\n",
    "    idx = reduced_df[reduced_df['title'] == query_title].index[0]\n",
    "    cosine_sim = cosine_similarity(tfidf_matrix[idx], tfidf_matrix).flatten()\n",
    "    similar_indices = cosine_sim.argsort()[-top_k-1:-1][::-1]\n",
    "    return reduced_df.iloc[similar_indices][['title','author', 'rating', 'img', 'reviews']]"
   ]
  },
  {
   "cell_type": "code",
   "execution_count": 30,
   "id": "e706412a",
   "metadata": {
    "execution": {
     "iopub.execute_input": "2025-05-31T07:24:04.297829Z",
     "iopub.status.busy": "2025-05-31T07:24:04.297389Z",
     "iopub.status.idle": "2025-05-31T07:24:04.338753Z",
     "shell.execute_reply": "2025-05-31T07:24:04.338063Z"
    },
    "papermill": {
     "duration": 0.05736,
     "end_time": "2025-05-31T07:24:04.340193",
     "exception": false,
     "start_time": "2025-05-31T07:24:04.282833",
     "status": "completed"
    },
    "tags": []
   },
   "outputs": [
    {
     "data": {
      "text/html": [
       "<div>\n",
       "<style scoped>\n",
       "    .dataframe tbody tr th:only-of-type {\n",
       "        vertical-align: middle;\n",
       "    }\n",
       "\n",
       "    .dataframe tbody tr th {\n",
       "        vertical-align: top;\n",
       "    }\n",
       "\n",
       "    .dataframe thead th {\n",
       "        text-align: right;\n",
       "    }\n",
       "</style>\n",
       "<table border=\"1\" class=\"dataframe\">\n",
       "  <thead>\n",
       "    <tr style=\"text-align: right;\">\n",
       "      <th></th>\n",
       "      <th>title</th>\n",
       "      <th>author</th>\n",
       "      <th>rating</th>\n",
       "      <th>img</th>\n",
       "      <th>reviews</th>\n",
       "    </tr>\n",
       "  </thead>\n",
       "  <tbody>\n",
       "    <tr>\n",
       "      <th>11049</th>\n",
       "      <td>I, Steve: Steve Jobs In His Own Words</td>\n",
       "      <td>George Beahm</td>\n",
       "      <td>3.44</td>\n",
       "      <td>https://i.gr-assets.com/images/S/compressed.ph...</td>\n",
       "      <td>224</td>\n",
       "    </tr>\n",
       "    <tr>\n",
       "      <th>11140</th>\n",
       "      <td>The Steve Jobs Way: iLeadership for a New Gene...</td>\n",
       "      <td>Jay Elliot,William L. Simon</td>\n",
       "      <td>3.89</td>\n",
       "      <td>https://i.gr-assets.com/images/S/compressed.ph...</td>\n",
       "      <td>222</td>\n",
       "    </tr>\n",
       "    <tr>\n",
       "      <th>3439</th>\n",
       "      <td>Steve Jobs: The Man Who Thought Different</td>\n",
       "      <td>Karen Blumenthal</td>\n",
       "      <td>3.95</td>\n",
       "      <td>https://i.gr-assets.com/images/S/compressed.ph...</td>\n",
       "      <td>833</td>\n",
       "    </tr>\n",
       "    <tr>\n",
       "      <th>10187</th>\n",
       "      <td>The Coming Jobs War</td>\n",
       "      <td>Jim Clifton</td>\n",
       "      <td>3.76</td>\n",
       "      <td>https://i.gr-assets.com/images/S/compressed.ph...</td>\n",
       "      <td>247</td>\n",
       "    </tr>\n",
       "    <tr>\n",
       "      <th>9100</th>\n",
       "      <td>Inside Apple</td>\n",
       "      <td>Adam Lashinsky</td>\n",
       "      <td>3.83</td>\n",
       "      <td>https://i.gr-assets.com/images/S/compressed.ph...</td>\n",
       "      <td>284</td>\n",
       "    </tr>\n",
       "  </tbody>\n",
       "</table>\n",
       "</div>"
      ],
      "text/plain": [
       "                                                   title  \\\n",
       "11049              I, Steve: Steve Jobs In His Own Words   \n",
       "11140  The Steve Jobs Way: iLeadership for a New Gene...   \n",
       "3439           Steve Jobs: The Man Who Thought Different   \n",
       "10187                                The Coming Jobs War   \n",
       "9100                                        Inside Apple   \n",
       "\n",
       "                            author  rating  \\\n",
       "11049                 George Beahm    3.44   \n",
       "11140  Jay Elliot,William L. Simon    3.89   \n",
       "3439              Karen Blumenthal    3.95   \n",
       "10187                  Jim Clifton    3.76   \n",
       "9100                Adam Lashinsky    3.83   \n",
       "\n",
       "                                                     img  reviews  \n",
       "11049  https://i.gr-assets.com/images/S/compressed.ph...      224  \n",
       "11140  https://i.gr-assets.com/images/S/compressed.ph...      222  \n",
       "3439   https://i.gr-assets.com/images/S/compressed.ph...      833  \n",
       "10187  https://i.gr-assets.com/images/S/compressed.ph...      247  \n",
       "9100   https://i.gr-assets.com/images/S/compressed.ph...      284  "
      ]
     },
     "execution_count": 30,
     "metadata": {},
     "output_type": "execute_result"
    }
   ],
   "source": [
    "get_recommendations(\"Steve Jobs\")"
   ]
  },
  {
   "cell_type": "code",
   "execution_count": 31,
   "id": "86ba17a2",
   "metadata": {
    "execution": {
     "iopub.execute_input": "2025-05-31T07:24:04.372360Z",
     "iopub.status.busy": "2025-05-31T07:24:04.371925Z",
     "iopub.status.idle": "2025-05-31T07:24:04.409448Z",
     "shell.execute_reply": "2025-05-31T07:24:04.408782Z"
    },
    "papermill": {
     "duration": 0.054011,
     "end_time": "2025-05-31T07:24:04.410620",
     "exception": false,
     "start_time": "2025-05-31T07:24:04.356609",
     "status": "completed"
    },
    "tags": []
   },
   "outputs": [
    {
     "data": {
      "text/html": [
       "<div>\n",
       "<style scoped>\n",
       "    .dataframe tbody tr th:only-of-type {\n",
       "        vertical-align: middle;\n",
       "    }\n",
       "\n",
       "    .dataframe tbody tr th {\n",
       "        vertical-align: top;\n",
       "    }\n",
       "\n",
       "    .dataframe thead th {\n",
       "        text-align: right;\n",
       "    }\n",
       "</style>\n",
       "<table border=\"1\" class=\"dataframe\">\n",
       "  <thead>\n",
       "    <tr style=\"text-align: right;\">\n",
       "      <th></th>\n",
       "      <th>title</th>\n",
       "      <th>author</th>\n",
       "      <th>rating</th>\n",
       "      <th>img</th>\n",
       "      <th>reviews</th>\n",
       "    </tr>\n",
       "  </thead>\n",
       "  <tbody>\n",
       "    <tr>\n",
       "      <th>16812</th>\n",
       "      <td>Heart in Hand</td>\n",
       "      <td>Mary Calmes</td>\n",
       "      <td>3.80</td>\n",
       "      <td>https://i.gr-assets.com/images/S/compressed.ph...</td>\n",
       "      <td>126</td>\n",
       "    </tr>\n",
       "    <tr>\n",
       "      <th>11302</th>\n",
       "      <td>Simon Says</td>\n",
       "      <td>Lori Foster</td>\n",
       "      <td>4.15</td>\n",
       "      <td>https://i.gr-assets.com/images/S/compressed.ph...</td>\n",
       "      <td>218</td>\n",
       "    </tr>\n",
       "    <tr>\n",
       "      <th>7423</th>\n",
       "      <td>Tigerland</td>\n",
       "      <td>Sean Kennedy</td>\n",
       "      <td>4.21</td>\n",
       "      <td>https://i.gr-assets.com/images/S/compressed.ph...</td>\n",
       "      <td>362</td>\n",
       "    </tr>\n",
       "    <tr>\n",
       "      <th>14737</th>\n",
       "      <td>Simon's Cat in Kitten Chaos</td>\n",
       "      <td>Simon Tofield</td>\n",
       "      <td>4.31</td>\n",
       "      <td>https://i.gr-assets.com/images/S/compressed.ph...</td>\n",
       "      <td>152</td>\n",
       "    </tr>\n",
       "    <tr>\n",
       "      <th>5806</th>\n",
       "      <td>Over and Under the Snow</td>\n",
       "      <td>Kate Messner,Christopher Silas Neal</td>\n",
       "      <td>4.12</td>\n",
       "      <td>https://i.gr-assets.com/images/S/compressed.ph...</td>\n",
       "      <td>479</td>\n",
       "    </tr>\n",
       "  </tbody>\n",
       "</table>\n",
       "</div>"
      ],
      "text/plain": [
       "                             title                               author  \\\n",
       "16812                Heart in Hand                          Mary Calmes   \n",
       "11302                   Simon Says                          Lori Foster   \n",
       "7423                     Tigerland                         Sean Kennedy   \n",
       "14737  Simon's Cat in Kitten Chaos                        Simon Tofield   \n",
       "5806       Over and Under the Snow  Kate Messner,Christopher Silas Neal   \n",
       "\n",
       "       rating                                                img  reviews  \n",
       "16812    3.80  https://i.gr-assets.com/images/S/compressed.ph...      126  \n",
       "11302    4.15  https://i.gr-assets.com/images/S/compressed.ph...      218  \n",
       "7423     4.21  https://i.gr-assets.com/images/S/compressed.ph...      362  \n",
       "14737    4.31  https://i.gr-assets.com/images/S/compressed.ph...      152  \n",
       "5806     4.12  https://i.gr-assets.com/images/S/compressed.ph...      479  "
      ]
     },
     "execution_count": 31,
     "metadata": {},
     "output_type": "execute_result"
    }
   ],
   "source": [
    "get_recommendations(\"Fangirl\")"
   ]
  },
  {
   "cell_type": "code",
   "execution_count": 32,
   "id": "e3c045e0",
   "metadata": {
    "execution": {
     "iopub.execute_input": "2025-05-31T07:24:04.440956Z",
     "iopub.status.busy": "2025-05-31T07:24:04.440738Z",
     "iopub.status.idle": "2025-05-31T07:24:04.477373Z",
     "shell.execute_reply": "2025-05-31T07:24:04.476783Z"
    },
    "papermill": {
     "duration": 0.052834,
     "end_time": "2025-05-31T07:24:04.478551",
     "exception": false,
     "start_time": "2025-05-31T07:24:04.425717",
     "status": "completed"
    },
    "tags": []
   },
   "outputs": [
    {
     "data": {
      "text/html": [
       "<div>\n",
       "<style scoped>\n",
       "    .dataframe tbody tr th:only-of-type {\n",
       "        vertical-align: middle;\n",
       "    }\n",
       "\n",
       "    .dataframe tbody tr th {\n",
       "        vertical-align: top;\n",
       "    }\n",
       "\n",
       "    .dataframe thead th {\n",
       "        text-align: right;\n",
       "    }\n",
       "</style>\n",
       "<table border=\"1\" class=\"dataframe\">\n",
       "  <thead>\n",
       "    <tr style=\"text-align: right;\">\n",
       "      <th></th>\n",
       "      <th>title</th>\n",
       "      <th>author</th>\n",
       "      <th>rating</th>\n",
       "      <th>img</th>\n",
       "      <th>reviews</th>\n",
       "    </tr>\n",
       "  </thead>\n",
       "  <tbody>\n",
       "    <tr>\n",
       "      <th>10956</th>\n",
       "      <td>Making Habits, Breaking Habits: Why We Do Thin...</td>\n",
       "      <td>Jeremy  Dean</td>\n",
       "      <td>3.68</td>\n",
       "      <td>https://i.gr-assets.com/images/S/compressed.ph...</td>\n",
       "      <td>227</td>\n",
       "    </tr>\n",
       "    <tr>\n",
       "      <th>15588</th>\n",
       "      <td>Rich Habits: The Daily Success Habits of Wealt...</td>\n",
       "      <td>Thomas C. Corley</td>\n",
       "      <td>3.72</td>\n",
       "      <td>https://i.gr-assets.com/images/S/compressed.ph...</td>\n",
       "      <td>141</td>\n",
       "    </tr>\n",
       "    <tr>\n",
       "      <th>3784</th>\n",
       "      <td>Psycho-Cybernetics, A New Way to Get More Livi...</td>\n",
       "      <td>Maxwell Maltz</td>\n",
       "      <td>4.22</td>\n",
       "      <td>https://i.gr-assets.com/images/S/compressed.ph...</td>\n",
       "      <td>749</td>\n",
       "    </tr>\n",
       "    <tr>\n",
       "      <th>18465</th>\n",
       "      <td>Mastering the Rockefeller Habits: What You Mus...</td>\n",
       "      <td>Verne Harnish</td>\n",
       "      <td>4.03</td>\n",
       "      <td>https://i.gr-assets.com/images/S/compressed.ph...</td>\n",
       "      <td>109</td>\n",
       "    </tr>\n",
       "    <tr>\n",
       "      <th>19809</th>\n",
       "      <td>What the CEO Wants You to Know: Using Business...</td>\n",
       "      <td>Ram Charan</td>\n",
       "      <td>3.90</td>\n",
       "      <td>https://i.gr-assets.com/images/S/compressed.ph...</td>\n",
       "      <td>98</td>\n",
       "    </tr>\n",
       "  </tbody>\n",
       "</table>\n",
       "</div>"
      ],
      "text/plain": [
       "                                                   title            author  \\\n",
       "10956  Making Habits, Breaking Habits: Why We Do Thin...      Jeremy  Dean   \n",
       "15588  Rich Habits: The Daily Success Habits of Wealt...  Thomas C. Corley   \n",
       "3784   Psycho-Cybernetics, A New Way to Get More Livi...     Maxwell Maltz   \n",
       "18465  Mastering the Rockefeller Habits: What You Mus...     Verne Harnish   \n",
       "19809  What the CEO Wants You to Know: Using Business...        Ram Charan   \n",
       "\n",
       "       rating                                                img  reviews  \n",
       "10956    3.68  https://i.gr-assets.com/images/S/compressed.ph...      227  \n",
       "15588    3.72  https://i.gr-assets.com/images/S/compressed.ph...      141  \n",
       "3784     4.22  https://i.gr-assets.com/images/S/compressed.ph...      749  \n",
       "18465    4.03  https://i.gr-assets.com/images/S/compressed.ph...      109  \n",
       "19809    3.90  https://i.gr-assets.com/images/S/compressed.ph...       98  "
      ]
     },
     "execution_count": 32,
     "metadata": {},
     "output_type": "execute_result"
    }
   ],
   "source": [
    "get_recommendations(\"The Power of Habit: Why We Do What We Do in Life and Business\")"
   ]
  },
  {
   "cell_type": "markdown",
   "id": "7b7d0845",
   "metadata": {
    "papermill": {
     "duration": 0.013769,
     "end_time": "2025-05-31T07:24:04.507837",
     "exception": false,
     "start_time": "2025-05-31T07:24:04.494068",
     "status": "completed"
    },
    "tags": []
   },
   "source": [
    "\n",
    "# Notebook Ownership and Copyright\n",
    "\n",
    "This Jupyter Notebook is owned and maintained by **Rambabu Kumar**.\n",
    "\n",
    "---\n",
    "\n",
    "<div style=\"text-align: center; font-size: 1.2em; margin-top: 20px;\">\n",
    "  This Project is made with ❤️ by Rambabu Kumar\n",
    "</div>\n",
    "\n",
    "---\n",
    "\n",
    "**Copyright © 2025 Rambabu Kumar. All rights reserved.**\n",
    "\n",
    "This notebook and its contents are protected by copyright law. Unauthorized reproduction, distribution, or modification of this work, in whole or in part, is strictly prohibited.\n",
    "\"\"\"\n",
    "\n",
    "# Display the Markdown content\n",
    "display(Markdown(ownership_info))\n"
   ]
  },
  {
   "cell_type": "code",
   "execution_count": null,
   "id": "be6ecfaa",
   "metadata": {
    "papermill": {
     "duration": 0.013843,
     "end_time": "2025-05-31T07:24:04.535508",
     "exception": false,
     "start_time": "2025-05-31T07:24:04.521665",
     "status": "completed"
    },
    "tags": []
   },
   "outputs": [],
   "source": []
  }
 ],
 "metadata": {
  "kaggle": {
   "accelerator": "nvidiaTeslaT4",
   "dataSources": [
    {
     "datasetId": 1938,
     "sourceId": 3914,
     "sourceType": "datasetVersion"
    },
    {
     "datasetId": 499742,
     "sourceId": 928201,
     "sourceType": "datasetVersion"
    },
    {
     "datasetId": 231310,
     "sourceId": 996643,
     "sourceType": "datasetVersion"
    },
    {
     "datasetId": 1390469,
     "sourceId": 2305430,
     "sourceType": "datasetVersion"
    },
    {
     "datasetId": 1004280,
     "sourceId": 7595263,
     "sourceType": "datasetVersion"
    },
    {
     "datasetId": 7245789,
     "sourceId": 11561114,
     "sourceType": "datasetVersion"
    }
   ],
   "dockerImageVersionId": 31011,
   "isGpuEnabled": true,
   "isInternetEnabled": true,
   "language": "python",
   "sourceType": "notebook"
  },
  "kernelspec": {
   "display_name": "Python 3",
   "language": "python",
   "name": "python3"
  },
  "language_info": {
   "codemirror_mode": {
    "name": "ipython",
    "version": 3
   },
   "file_extension": ".py",
   "mimetype": "text/x-python",
   "name": "python",
   "nbconvert_exporter": "python",
   "pygments_lexer": "ipython3",
   "version": "3.11.11"
  },
  "papermill": {
   "default_parameters": {},
   "duration": 18.016371,
   "end_time": "2025-05-31T07:24:05.167531",
   "environment_variables": {},
   "exception": null,
   "input_path": "__notebook__.ipynb",
   "output_path": "__notebook__.ipynb",
   "parameters": {},
   "start_time": "2025-05-31T07:23:47.151160",
   "version": "2.6.0"
  }
 },
 "nbformat": 4,
 "nbformat_minor": 5
}
